{
 "cells": [
  {
   "cell_type": "markdown",
   "id": "9c53a02f-e9a6-4f9d-b0d2-4a4c491a8ecc",
   "metadata": {
    "id": "9c53a02f-e9a6-4f9d-b0d2-4a4c491a8ecc"
   },
   "source": [
    "# Glassdoor Job Reviews: Exploratory Data Analysis"
   ]
  },
  {
   "cell_type": "markdown",
   "id": "4b4d3b46-c44f-4a21-bf03-e9929604bf72",
   "metadata": {
    "id": "4b4d3b46-c44f-4a21-bf03-e9929604bf72",
    "tags": []
   },
   "source": [
    "Link to the Data: https://www.kaggle.com/datasets/davidgauthier/glassdoor-job-reviews"
   ]
  },
  {
   "cell_type": "code",
   "execution_count": 1,
   "id": "5e716a3e-967a-4568-9e98-dfaa9d8a72b4",
   "metadata": {
    "id": "5e716a3e-967a-4568-9e98-dfaa9d8a72b4",
    "tags": []
   },
   "outputs": [],
   "source": [
    "import pandas as pd\n",
    "import numpy as np\n",
    "import matplotlib.pyplot as plt\n",
    "import seaborn as sns"
   ]
  },
  {
   "cell_type": "code",
   "execution_count": null,
   "id": "c5a54fb6-dcdf-4a78-92e0-c20513f4202b",
   "metadata": {
    "id": "c5a54fb6-dcdf-4a78-92e0-c20513f4202b",
    "tags": []
   },
   "outputs": [],
   "source": [
    "reviews_df = pd.read_csv('glassdoor_reviews.csv')"
   ]
  },
  {
   "cell_type": "markdown",
   "id": "7b99ddd8-d5b3-406f-86ae-6eaf3bd2f6ae",
   "metadata": {
    "id": "7b99ddd8-d5b3-406f-86ae-6eaf3bd2f6ae",
    "tags": []
   },
   "source": [
    "### 1. Introduction"
   ]
  },
  {
   "cell_type": "markdown",
   "id": "1a3b3617-ce9e-47aa-8b0d-ad54c5b11643",
   "metadata": {
    "id": "1a3b3617-ce9e-47aa-8b0d-ad54c5b11643"
   },
   "source": [
    "#### This notebook outlines an Exploratory Data Analysis (EDA) of the \"Glassdoor Job Reviews\" dataset. Glassdoor is a platform that allows current and former employees to review the companies they've worked at, providing ratings of several different metrics, and listing the pros and cons of their experience working there."
   ]
  },
  {
   "cell_type": "code",
   "execution_count": null,
   "id": "3ce9d10b-f4e3-4e74-88f7-516e2d4c69ab",
   "metadata": {
    "id": "3ce9d10b-f4e3-4e74-88f7-516e2d4c69ab",
    "outputId": "eebd5cc5-3c24-407a-859f-70ab3fc96751",
    "tags": []
   },
   "outputs": [
    {
     "data": {
      "text/plain": [
       "(838566, 18)"
      ]
     },
     "execution_count": 3,
     "metadata": {},
     "output_type": "execute_result"
    }
   ],
   "source": [
    "reviews_df.shape"
   ]
  },
  {
   "cell_type": "code",
   "execution_count": null,
   "id": "dab01b32-0cde-4a96-8eee-b85e9baa4f1c",
   "metadata": {
    "id": "dab01b32-0cde-4a96-8eee-b85e9baa4f1c",
    "outputId": "e5441f11-2a69-49c3-f61c-5d875b485e99",
    "tags": []
   },
   "outputs": [
    {
     "data": {
      "text/plain": [
       "Index(['firm', 'date_review', 'job_title', 'current', 'location',\n",
       "       'overall_rating', 'work_life_balance', 'culture_values',\n",
       "       'diversity_inclusion', 'career_opp', 'comp_benefits', 'senior_mgmt',\n",
       "       'recommend', 'ceo_approv', 'outlook', 'headline', 'pros', 'cons'],\n",
       "      dtype='object')"
      ]
     },
     "execution_count": 4,
     "metadata": {},
     "output_type": "execute_result"
    }
   ],
   "source": [
    "reviews_df.columns"
   ]
  },
  {
   "cell_type": "markdown",
   "id": "143d80a0-e3a1-47dd-9dd1-e0cc562c5899",
   "metadata": {
    "id": "143d80a0-e3a1-47dd-9dd1-e0cc562c5899"
   },
   "source": [
    "#### The data collected for analysis consists of 838,566 rows across 18 columns focusing primarily on UK based firms, with the data stored in the columns ranging from information about the company, the job title, different scores for metrics such as work-life balance and diversity, whether the reviewer recommends working at the respective firm, as well as a brief pros and cons list of working at that company."
   ]
  },
  {
   "cell_type": "markdown",
   "id": "1bcb458d-6eea-4745-9f2f-1bb3a6052d70",
   "metadata": {
    "id": "1bcb458d-6eea-4745-9f2f-1bb3a6052d70"
   },
   "source": [
    "#### The stages of the EDA outlined in this notebook will consist of:\n",
    "- The Data Cleaning Stage\n",
    "- The Data Summary Stage\n",
    "- The Data Analysis Stage"
   ]
  },
  {
   "cell_type": "markdown",
   "id": "d4bb2339-4723-4242-a251-ddddae615384",
   "metadata": {
    "id": "d4bb2339-4723-4242-a251-ddddae615384",
    "tags": []
   },
   "source": [
    "## 2. Data Cleaning"
   ]
  },
  {
   "cell_type": "markdown",
   "id": "e36e8cc8-3823-4357-a465-a227167b1806",
   "metadata": {
    "id": "e36e8cc8-3823-4357-a465-a227167b1806",
    "tags": []
   },
   "source": [
    "### a. Determining and handling null values"
   ]
  },
  {
   "cell_type": "markdown",
   "id": "ac5b7364-e620-4ff3-a0c8-6b34d4f888a3",
   "metadata": {
    "id": "ac5b7364-e620-4ff3-a0c8-6b34d4f888a3"
   },
   "source": [
    "#### We should first get an idea of how many nulls we have and where they're located."
   ]
  },
  {
   "cell_type": "code",
   "execution_count": null,
   "id": "bcb40f8f-0312-43d1-a1c6-84420b47482f",
   "metadata": {
    "id": "bcb40f8f-0312-43d1-a1c6-84420b47482f",
    "outputId": "117497c3-f23f-4379-e10e-aca5026b3114",
    "tags": []
   },
   "outputs": [
    {
     "data": {
      "text/html": [
       "<div>\n",
       "<style scoped>\n",
       "    .dataframe tbody tr th:only-of-type {\n",
       "        vertical-align: middle;\n",
       "    }\n",
       "\n",
       "    .dataframe tbody tr th {\n",
       "        vertical-align: top;\n",
       "    }\n",
       "\n",
       "    .dataframe thead th {\n",
       "        text-align: right;\n",
       "    }\n",
       "</style>\n",
       "<table border=\"1\" class=\"dataframe\">\n",
       "  <thead>\n",
       "    <tr style=\"text-align: right;\">\n",
       "      <th></th>\n",
       "      <th>Total Nulls</th>\n",
       "    </tr>\n",
       "  </thead>\n",
       "  <tbody>\n",
       "    <tr>\n",
       "      <th>firm</th>\n",
       "      <td>0</td>\n",
       "    </tr>\n",
       "    <tr>\n",
       "      <th>date_review</th>\n",
       "      <td>0</td>\n",
       "    </tr>\n",
       "    <tr>\n",
       "      <th>job_title</th>\n",
       "      <td>0</td>\n",
       "    </tr>\n",
       "    <tr>\n",
       "      <th>current</th>\n",
       "      <td>0</td>\n",
       "    </tr>\n",
       "    <tr>\n",
       "      <th>location</th>\n",
       "      <td>297338</td>\n",
       "    </tr>\n",
       "    <tr>\n",
       "      <th>overall_rating</th>\n",
       "      <td>0</td>\n",
       "    </tr>\n",
       "    <tr>\n",
       "      <th>work_life_balance</th>\n",
       "      <td>149894</td>\n",
       "    </tr>\n",
       "    <tr>\n",
       "      <th>culture_values</th>\n",
       "      <td>191373</td>\n",
       "    </tr>\n",
       "    <tr>\n",
       "      <th>diversity_inclusion</th>\n",
       "      <td>702500</td>\n",
       "    </tr>\n",
       "    <tr>\n",
       "      <th>career_opp</th>\n",
       "      <td>147501</td>\n",
       "    </tr>\n",
       "    <tr>\n",
       "      <th>comp_benefits</th>\n",
       "      <td>150082</td>\n",
       "    </tr>\n",
       "    <tr>\n",
       "      <th>senior_mgmt</th>\n",
       "      <td>155876</td>\n",
       "    </tr>\n",
       "    <tr>\n",
       "      <th>recommend</th>\n",
       "      <td>0</td>\n",
       "    </tr>\n",
       "    <tr>\n",
       "      <th>ceo_approv</th>\n",
       "      <td>0</td>\n",
       "    </tr>\n",
       "    <tr>\n",
       "      <th>outlook</th>\n",
       "      <td>0</td>\n",
       "    </tr>\n",
       "    <tr>\n",
       "      <th>headline</th>\n",
       "      <td>2219</td>\n",
       "    </tr>\n",
       "    <tr>\n",
       "      <th>pros</th>\n",
       "      <td>0</td>\n",
       "    </tr>\n",
       "    <tr>\n",
       "      <th>cons</th>\n",
       "      <td>8</td>\n",
       "    </tr>\n",
       "  </tbody>\n",
       "</table>\n",
       "</div>"
      ],
      "text/plain": [
       "                     Total Nulls\n",
       "firm                           0\n",
       "date_review                    0\n",
       "job_title                      0\n",
       "current                        0\n",
       "location                  297338\n",
       "overall_rating                 0\n",
       "work_life_balance         149894\n",
       "culture_values            191373\n",
       "diversity_inclusion       702500\n",
       "career_opp                147501\n",
       "comp_benefits             150082\n",
       "senior_mgmt               155876\n",
       "recommend                      0\n",
       "ceo_approv                     0\n",
       "outlook                        0\n",
       "headline                    2219\n",
       "pros                           0\n",
       "cons                           8"
      ]
     },
     "execution_count": 5,
     "metadata": {},
     "output_type": "execute_result"
    }
   ],
   "source": [
    "# Find sum of total nulls in each column\n",
    "\n",
    "reviews_df.isna().sum().to_frame(name = 'Total Nulls')"
   ]
  },
  {
   "cell_type": "markdown",
   "id": "e541abd5-c729-4e25-9988-b9d74b8bc4d6",
   "metadata": {
    "id": "e541abd5-c729-4e25-9988-b9d74b8bc4d6",
    "tags": []
   },
   "source": [
    "#### Are there any additional empty values in the table that were not detected as nulls?"
   ]
  },
  {
   "cell_type": "code",
   "execution_count": null,
   "id": "37a116c0-8155-469e-968e-b4589e1fdb2d",
   "metadata": {
    "id": "37a116c0-8155-469e-968e-b4589e1fdb2d",
    "outputId": "047a5523-484f-4159-a49b-6212eafa2457",
    "tags": []
   },
   "outputs": [
    {
     "data": {
      "text/html": [
       "<div>\n",
       "<style scoped>\n",
       "    .dataframe tbody tr th:only-of-type {\n",
       "        vertical-align: middle;\n",
       "    }\n",
       "\n",
       "    .dataframe tbody tr th {\n",
       "        vertical-align: top;\n",
       "    }\n",
       "\n",
       "    .dataframe thead th {\n",
       "        text-align: right;\n",
       "    }\n",
       "</style>\n",
       "<table border=\"1\" class=\"dataframe\">\n",
       "  <thead>\n",
       "    <tr style=\"text-align: right;\">\n",
       "      <th></th>\n",
       "      <th>firm</th>\n",
       "      <th>date_review</th>\n",
       "      <th>job_title</th>\n",
       "      <th>current</th>\n",
       "      <th>location</th>\n",
       "      <th>overall_rating</th>\n",
       "      <th>work_life_balance</th>\n",
       "      <th>culture_values</th>\n",
       "      <th>diversity_inclusion</th>\n",
       "      <th>career_opp</th>\n",
       "      <th>comp_benefits</th>\n",
       "      <th>senior_mgmt</th>\n",
       "      <th>recommend</th>\n",
       "      <th>ceo_approv</th>\n",
       "      <th>outlook</th>\n",
       "      <th>headline</th>\n",
       "      <th>pros</th>\n",
       "      <th>cons</th>\n",
       "    </tr>\n",
       "  </thead>\n",
       "  <tbody>\n",
       "    <tr>\n",
       "      <th>0</th>\n",
       "      <td>AFH-Wealth-Management</td>\n",
       "      <td>2015-04-05</td>\n",
       "      <td></td>\n",
       "      <td>Current Employee</td>\n",
       "      <td>NaN</td>\n",
       "      <td>2</td>\n",
       "      <td>4.0</td>\n",
       "      <td>3.0</td>\n",
       "      <td>NaN</td>\n",
       "      <td>2.0</td>\n",
       "      <td>3.0</td>\n",
       "      <td>3.0</td>\n",
       "      <td>x</td>\n",
       "      <td>o</td>\n",
       "      <td>r</td>\n",
       "      <td>Young colleagues, poor micro management</td>\n",
       "      <td>Very friendly and welcoming to new staff. Easy...</td>\n",
       "      <td>Poor salaries, poor training and communication.</td>\n",
       "    </tr>\n",
       "    <tr>\n",
       "      <th>3</th>\n",
       "      <td>AFH-Wealth-Management</td>\n",
       "      <td>2016-04-16</td>\n",
       "      <td></td>\n",
       "      <td>Current Employee</td>\n",
       "      <td>NaN</td>\n",
       "      <td>5</td>\n",
       "      <td>2.0</td>\n",
       "      <td>3.0</td>\n",
       "      <td>NaN</td>\n",
       "      <td>2.0</td>\n",
       "      <td>2.0</td>\n",
       "      <td>3.0</td>\n",
       "      <td>x</td>\n",
       "      <td>o</td>\n",
       "      <td>r</td>\n",
       "      <td>Over promised under delivered</td>\n",
       "      <td>Nice staff to work with</td>\n",
       "      <td>No career progression and salary is poor</td>\n",
       "    </tr>\n",
       "    <tr>\n",
       "      <th>66</th>\n",
       "      <td>AJ-Bell</td>\n",
       "      <td>2015-07-01</td>\n",
       "      <td></td>\n",
       "      <td>Former Employee, more than 3 years</td>\n",
       "      <td>NaN</td>\n",
       "      <td>3</td>\n",
       "      <td>4.0</td>\n",
       "      <td>1.0</td>\n",
       "      <td>NaN</td>\n",
       "      <td>2.0</td>\n",
       "      <td>2.0</td>\n",
       "      <td>2.0</td>\n",
       "      <td>x</td>\n",
       "      <td>v</td>\n",
       "      <td>x</td>\n",
       "      <td>Average company</td>\n",
       "      <td>Good team work\\r\\nLife / work balance</td>\n",
       "      <td>No development\\r\\nLack of leadership\\r\\nPoor l...</td>\n",
       "    </tr>\n",
       "  </tbody>\n",
       "</table>\n",
       "</div>"
      ],
      "text/plain": [
       "                     firm date_review job_title  \\\n",
       "0   AFH-Wealth-Management  2015-04-05             \n",
       "3   AFH-Wealth-Management  2016-04-16             \n",
       "66                AJ-Bell  2015-07-01             \n",
       "\n",
       "                               current location  overall_rating  \\\n",
       "0                     Current Employee      NaN               2   \n",
       "3                     Current Employee      NaN               5   \n",
       "66  Former Employee, more than 3 years      NaN               3   \n",
       "\n",
       "    work_life_balance  culture_values  diversity_inclusion  career_opp  \\\n",
       "0                 4.0             3.0                  NaN         2.0   \n",
       "3                 2.0             3.0                  NaN         2.0   \n",
       "66                4.0             1.0                  NaN         2.0   \n",
       "\n",
       "    comp_benefits  senior_mgmt recommend ceo_approv outlook  \\\n",
       "0             3.0          3.0         x          o       r   \n",
       "3             2.0          3.0         x          o       r   \n",
       "66            2.0          2.0         x          v       x   \n",
       "\n",
       "                                   headline  \\\n",
       "0   Young colleagues, poor micro management   \n",
       "3             Over promised under delivered   \n",
       "66                          Average company   \n",
       "\n",
       "                                                 pros  \\\n",
       "0   Very friendly and welcoming to new staff. Easy...   \n",
       "3                             Nice staff to work with   \n",
       "66              Good team work\\r\\nLife / work balance   \n",
       "\n",
       "                                                 cons  \n",
       "0     Poor salaries, poor training and communication.  \n",
       "3            No career progression and salary is poor  \n",
       "66  No development\\r\\nLack of leadership\\r\\nPoor l...  "
      ]
     },
     "execution_count": 6,
     "metadata": {},
     "output_type": "execute_result"
    }
   ],
   "source": [
    "# Checking for blank space entries in the job_title column.\n",
    "\n",
    "filter = reviews_df['job_title'] == ' '\n",
    "reviews_df[filter].head(3)"
   ]
  },
  {
   "cell_type": "code",
   "execution_count": null,
   "id": "e4c97907-104e-4bf5-ad10-8d0039e8d78e",
   "metadata": {
    "id": "e4c97907-104e-4bf5-ad10-8d0039e8d78e",
    "outputId": "0b42d4a5-3044-4576-dd93-c291fdac5bfc",
    "tags": []
   },
   "outputs": [
    {
     "data": {
      "text/html": [
       "<div>\n",
       "<style scoped>\n",
       "    .dataframe tbody tr th:only-of-type {\n",
       "        vertical-align: middle;\n",
       "    }\n",
       "\n",
       "    .dataframe tbody tr th {\n",
       "        vertical-align: top;\n",
       "    }\n",
       "\n",
       "    .dataframe thead th {\n",
       "        text-align: right;\n",
       "    }\n",
       "</style>\n",
       "<table border=\"1\" class=\"dataframe\">\n",
       "  <thead>\n",
       "    <tr style=\"text-align: right;\">\n",
       "      <th></th>\n",
       "      <th>Blank Space Nulls</th>\n",
       "    </tr>\n",
       "  </thead>\n",
       "  <tbody>\n",
       "    <tr>\n",
       "      <th>firm</th>\n",
       "      <td>0</td>\n",
       "    </tr>\n",
       "    <tr>\n",
       "      <th>date_review</th>\n",
       "      <td>0</td>\n",
       "    </tr>\n",
       "    <tr>\n",
       "      <th>job_title</th>\n",
       "      <td>79065</td>\n",
       "    </tr>\n",
       "    <tr>\n",
       "      <th>current</th>\n",
       "      <td>0</td>\n",
       "    </tr>\n",
       "    <tr>\n",
       "      <th>location</th>\n",
       "      <td>0</td>\n",
       "    </tr>\n",
       "    <tr>\n",
       "      <th>recommend</th>\n",
       "      <td>0</td>\n",
       "    </tr>\n",
       "    <tr>\n",
       "      <th>ceo_approv</th>\n",
       "      <td>0</td>\n",
       "    </tr>\n",
       "    <tr>\n",
       "      <th>outlook</th>\n",
       "      <td>0</td>\n",
       "    </tr>\n",
       "    <tr>\n",
       "      <th>headline</th>\n",
       "      <td>0</td>\n",
       "    </tr>\n",
       "    <tr>\n",
       "      <th>pros</th>\n",
       "      <td>0</td>\n",
       "    </tr>\n",
       "    <tr>\n",
       "      <th>cons</th>\n",
       "      <td>0</td>\n",
       "    </tr>\n",
       "  </tbody>\n",
       "</table>\n",
       "</div>"
      ],
      "text/plain": [
       "             Blank Space Nulls\n",
       "firm                         0\n",
       "date_review                  0\n",
       "job_title                79065\n",
       "current                      0\n",
       "location                     0\n",
       "recommend                    0\n",
       "ceo_approv                   0\n",
       "outlook                      0\n",
       "headline                     0\n",
       "pros                         0\n",
       "cons                         0"
      ]
     },
     "execution_count": 7,
     "metadata": {},
     "output_type": "execute_result"
    }
   ],
   "source": [
    "# Checking every text column for blank space nulls\n",
    "\n",
    "count_of_nulls = {}\n",
    "keys = reviews_df.select_dtypes(include = 'object') # Select only the columns that are of type object\n",
    "\n",
    "# Creating a dictionary to count blank spaces for each column\n",
    "for column in reviews_df.columns:\n",
    "    for key in keys:\n",
    "        filter = reviews_df[key] == ' '\n",
    "        count_of_nulls[key] = reviews_df[key][filter].count()\n",
    "\n",
    "nulls = pd.DataFrame(count_of_nulls, index = ['Blank Space Nulls'])\n",
    "nulls.T"
   ]
  },
  {
   "cell_type": "markdown",
   "id": "02ea4b0b-4341-4ea6-ac45-4527d252d519",
   "metadata": {
    "id": "02ea4b0b-4341-4ea6-ac45-4527d252d519"
   },
   "source": [
    "#### There were, in fact, additional empty values in the \"job_title\" column that were not initially detected. We now handle these by replacing them with a meaningful placeholder derived from other values in the column."
   ]
  },
  {
   "cell_type": "code",
   "execution_count": null,
   "id": "b8db9270-eb43-44b9-a784-fab4e86abe11",
   "metadata": {
    "id": "b8db9270-eb43-44b9-a784-fab4e86abe11",
    "outputId": "0f01dfc5-c484-40c4-d9d0-e5ace58aa0fa",
    "tags": []
   },
   "outputs": [
    {
     "data": {
      "text/html": [
       "<div>\n",
       "<style scoped>\n",
       "    .dataframe tbody tr th:only-of-type {\n",
       "        vertical-align: middle;\n",
       "    }\n",
       "\n",
       "    .dataframe tbody tr th {\n",
       "        vertical-align: top;\n",
       "    }\n",
       "\n",
       "    .dataframe thead th {\n",
       "        text-align: right;\n",
       "    }\n",
       "</style>\n",
       "<table border=\"1\" class=\"dataframe\">\n",
       "  <thead>\n",
       "    <tr style=\"text-align: right;\">\n",
       "      <th></th>\n",
       "      <th>firm</th>\n",
       "      <th>date_review</th>\n",
       "      <th>job_title</th>\n",
       "      <th>current</th>\n",
       "      <th>location</th>\n",
       "      <th>overall_rating</th>\n",
       "      <th>work_life_balance</th>\n",
       "      <th>culture_values</th>\n",
       "      <th>diversity_inclusion</th>\n",
       "      <th>career_opp</th>\n",
       "      <th>comp_benefits</th>\n",
       "      <th>senior_mgmt</th>\n",
       "      <th>recommend</th>\n",
       "      <th>ceo_approv</th>\n",
       "      <th>outlook</th>\n",
       "      <th>headline</th>\n",
       "      <th>pros</th>\n",
       "      <th>cons</th>\n",
       "    </tr>\n",
       "  </thead>\n",
       "  <tbody>\n",
       "    <tr>\n",
       "      <th>0</th>\n",
       "      <td>AFH-Wealth-Management</td>\n",
       "      <td>2015-04-05</td>\n",
       "      <td>Anonymous Employee</td>\n",
       "      <td>Current Employee</td>\n",
       "      <td>NaN</td>\n",
       "      <td>2</td>\n",
       "      <td>4.0</td>\n",
       "      <td>3.0</td>\n",
       "      <td>NaN</td>\n",
       "      <td>2.0</td>\n",
       "      <td>3.0</td>\n",
       "      <td>3.0</td>\n",
       "      <td>x</td>\n",
       "      <td>o</td>\n",
       "      <td>r</td>\n",
       "      <td>Young colleagues, poor micro management</td>\n",
       "      <td>Very friendly and welcoming to new staff. Easy...</td>\n",
       "      <td>Poor salaries, poor training and communication.</td>\n",
       "    </tr>\n",
       "    <tr>\n",
       "      <th>3</th>\n",
       "      <td>AFH-Wealth-Management</td>\n",
       "      <td>2016-04-16</td>\n",
       "      <td>Anonymous Employee</td>\n",
       "      <td>Current Employee</td>\n",
       "      <td>NaN</td>\n",
       "      <td>5</td>\n",
       "      <td>2.0</td>\n",
       "      <td>3.0</td>\n",
       "      <td>NaN</td>\n",
       "      <td>2.0</td>\n",
       "      <td>2.0</td>\n",
       "      <td>3.0</td>\n",
       "      <td>x</td>\n",
       "      <td>o</td>\n",
       "      <td>r</td>\n",
       "      <td>Over promised under delivered</td>\n",
       "      <td>Nice staff to work with</td>\n",
       "      <td>No career progression and salary is poor</td>\n",
       "    </tr>\n",
       "    <tr>\n",
       "      <th>66</th>\n",
       "      <td>AJ-Bell</td>\n",
       "      <td>2015-07-01</td>\n",
       "      <td>Anonymous Employee</td>\n",
       "      <td>Former Employee, more than 3 years</td>\n",
       "      <td>NaN</td>\n",
       "      <td>3</td>\n",
       "      <td>4.0</td>\n",
       "      <td>1.0</td>\n",
       "      <td>NaN</td>\n",
       "      <td>2.0</td>\n",
       "      <td>2.0</td>\n",
       "      <td>2.0</td>\n",
       "      <td>x</td>\n",
       "      <td>v</td>\n",
       "      <td>x</td>\n",
       "      <td>Average company</td>\n",
       "      <td>Good team work\\r\\nLife / work balance</td>\n",
       "      <td>No development\\r\\nLack of leadership\\r\\nPoor l...</td>\n",
       "    </tr>\n",
       "  </tbody>\n",
       "</table>\n",
       "</div>"
      ],
      "text/plain": [
       "                     firm date_review           job_title  \\\n",
       "0   AFH-Wealth-Management  2015-04-05  Anonymous Employee   \n",
       "3   AFH-Wealth-Management  2016-04-16  Anonymous Employee   \n",
       "66                AJ-Bell  2015-07-01  Anonymous Employee   \n",
       "\n",
       "                               current location  overall_rating  \\\n",
       "0                     Current Employee      NaN               2   \n",
       "3                     Current Employee      NaN               5   \n",
       "66  Former Employee, more than 3 years      NaN               3   \n",
       "\n",
       "    work_life_balance  culture_values  diversity_inclusion  career_opp  \\\n",
       "0                 4.0             3.0                  NaN         2.0   \n",
       "3                 2.0             3.0                  NaN         2.0   \n",
       "66                4.0             1.0                  NaN         2.0   \n",
       "\n",
       "    comp_benefits  senior_mgmt recommend ceo_approv outlook  \\\n",
       "0             3.0          3.0         x          o       r   \n",
       "3             2.0          3.0         x          o       r   \n",
       "66            2.0          2.0         x          v       x   \n",
       "\n",
       "                                   headline  \\\n",
       "0   Young colleagues, poor micro management   \n",
       "3             Over promised under delivered   \n",
       "66                          Average company   \n",
       "\n",
       "                                                 pros  \\\n",
       "0   Very friendly and welcoming to new staff. Easy...   \n",
       "3                             Nice staff to work with   \n",
       "66              Good team work\\r\\nLife / work balance   \n",
       "\n",
       "                                                 cons  \n",
       "0     Poor salaries, poor training and communication.  \n",
       "3            No career progression and salary is poor  \n",
       "66  No development\\r\\nLack of leadership\\r\\nPoor l...  "
      ]
     },
     "execution_count": 8,
     "metadata": {},
     "output_type": "execute_result"
    }
   ],
   "source": [
    "# Replace all blank spaces with placeholder string\n",
    "reviews_df.job_title = reviews_df.job_title.replace(' ', 'Anonymous Employee')\n",
    "\n",
    "# Verify that the values have changed\n",
    "job_filter = reviews_df['job_title'] == 'Anonymous Employee'\n",
    "reviews_df[job_filter].head(3)"
   ]
  },
  {
   "cell_type": "markdown",
   "id": "3bf46c81-35be-4177-b513-de085cc8873a",
   "metadata": {
    "id": "3bf46c81-35be-4177-b513-de085cc8873a"
   },
   "source": [
    "#### Now we can handle the nulls in all the other columns. Nulls in a text column are replaced with a placeholder, while Nulls in numeric columns are replaced with zeroes."
   ]
  },
  {
   "cell_type": "code",
   "execution_count": null,
   "id": "c9552c4f-b8c0-4387-9223-cafd6ce4f58e",
   "metadata": {
    "id": "c9552c4f-b8c0-4387-9223-cafd6ce4f58e",
    "tags": []
   },
   "outputs": [],
   "source": [
    "# Handling nulls in text columns\n",
    "reviews_df.location.fillna('Not Given', inplace = True)\n",
    "reviews_df.headline.fillna('N/A', inplace = True)\n",
    "reviews_df.cons.fillna('N/A', inplace = True)\n",
    "\n",
    "# Handling nulls in numeric columns\n",
    "reviews_df.work_life_balance.fillna(0, inplace = True)\n",
    "reviews_df.culture_values.fillna(0, inplace = True)\n",
    "reviews_df.diversity_inclusion.fillna(0, inplace = True)\n",
    "reviews_df.career_opp.fillna(0, inplace = True)\n",
    "reviews_df.comp_benefits.fillna(0, inplace = True)\n",
    "reviews_df.senior_mgmt.fillna(0, inplace = True)"
   ]
  },
  {
   "cell_type": "code",
   "execution_count": null,
   "id": "18bdaf06-4ab6-460c-9bf6-56af7e08744b",
   "metadata": {
    "id": "18bdaf06-4ab6-460c-9bf6-56af7e08744b",
    "outputId": "287e0243-f129-4255-ce3c-c66272e8a2ed",
    "tags": []
   },
   "outputs": [
    {
     "data": {
      "text/html": [
       "<div>\n",
       "<style scoped>\n",
       "    .dataframe tbody tr th:only-of-type {\n",
       "        vertical-align: middle;\n",
       "    }\n",
       "\n",
       "    .dataframe tbody tr th {\n",
       "        vertical-align: top;\n",
       "    }\n",
       "\n",
       "    .dataframe thead th {\n",
       "        text-align: right;\n",
       "    }\n",
       "</style>\n",
       "<table border=\"1\" class=\"dataframe\">\n",
       "  <thead>\n",
       "    <tr style=\"text-align: right;\">\n",
       "      <th></th>\n",
       "      <th>Total Nulls</th>\n",
       "    </tr>\n",
       "  </thead>\n",
       "  <tbody>\n",
       "    <tr>\n",
       "      <th>firm</th>\n",
       "      <td>0</td>\n",
       "    </tr>\n",
       "    <tr>\n",
       "      <th>date_review</th>\n",
       "      <td>0</td>\n",
       "    </tr>\n",
       "    <tr>\n",
       "      <th>job_title</th>\n",
       "      <td>0</td>\n",
       "    </tr>\n",
       "    <tr>\n",
       "      <th>current</th>\n",
       "      <td>0</td>\n",
       "    </tr>\n",
       "    <tr>\n",
       "      <th>location</th>\n",
       "      <td>0</td>\n",
       "    </tr>\n",
       "    <tr>\n",
       "      <th>overall_rating</th>\n",
       "      <td>0</td>\n",
       "    </tr>\n",
       "    <tr>\n",
       "      <th>work_life_balance</th>\n",
       "      <td>0</td>\n",
       "    </tr>\n",
       "    <tr>\n",
       "      <th>culture_values</th>\n",
       "      <td>0</td>\n",
       "    </tr>\n",
       "    <tr>\n",
       "      <th>diversity_inclusion</th>\n",
       "      <td>0</td>\n",
       "    </tr>\n",
       "    <tr>\n",
       "      <th>career_opp</th>\n",
       "      <td>0</td>\n",
       "    </tr>\n",
       "    <tr>\n",
       "      <th>comp_benefits</th>\n",
       "      <td>0</td>\n",
       "    </tr>\n",
       "    <tr>\n",
       "      <th>senior_mgmt</th>\n",
       "      <td>0</td>\n",
       "    </tr>\n",
       "    <tr>\n",
       "      <th>recommend</th>\n",
       "      <td>0</td>\n",
       "    </tr>\n",
       "    <tr>\n",
       "      <th>ceo_approv</th>\n",
       "      <td>0</td>\n",
       "    </tr>\n",
       "    <tr>\n",
       "      <th>outlook</th>\n",
       "      <td>0</td>\n",
       "    </tr>\n",
       "    <tr>\n",
       "      <th>headline</th>\n",
       "      <td>0</td>\n",
       "    </tr>\n",
       "    <tr>\n",
       "      <th>pros</th>\n",
       "      <td>0</td>\n",
       "    </tr>\n",
       "    <tr>\n",
       "      <th>cons</th>\n",
       "      <td>0</td>\n",
       "    </tr>\n",
       "  </tbody>\n",
       "</table>\n",
       "</div>"
      ],
      "text/plain": [
       "                     Total Nulls\n",
       "firm                           0\n",
       "date_review                    0\n",
       "job_title                      0\n",
       "current                        0\n",
       "location                       0\n",
       "overall_rating                 0\n",
       "work_life_balance              0\n",
       "culture_values                 0\n",
       "diversity_inclusion            0\n",
       "career_opp                     0\n",
       "comp_benefits                  0\n",
       "senior_mgmt                    0\n",
       "recommend                      0\n",
       "ceo_approv                     0\n",
       "outlook                        0\n",
       "headline                       0\n",
       "pros                           0\n",
       "cons                           0"
      ]
     },
     "execution_count": 10,
     "metadata": {},
     "output_type": "execute_result"
    }
   ],
   "source": [
    "# Verify that there are no longer any nulls in the dataset\n",
    "\n",
    "reviews_df.isna().sum().to_frame(name = 'Total Nulls')"
   ]
  },
  {
   "cell_type": "markdown",
   "id": "6700accd-1f01-436b-9174-1c8c0abf7f98",
   "metadata": {
    "id": "6700accd-1f01-436b-9174-1c8c0abf7f98",
    "tags": []
   },
   "source": [
    "### b. Validating Data Types"
   ]
  },
  {
   "cell_type": "markdown",
   "id": "047c6be6-326b-47a5-a89c-15ce7dcd887b",
   "metadata": {
    "id": "047c6be6-326b-47a5-a89c-15ce7dcd887b"
   },
   "source": [
    "#### Checking each column to verify that it has the correct datatype"
   ]
  },
  {
   "cell_type": "code",
   "execution_count": null,
   "id": "764c3e41-a5af-46c2-a27d-fcb3dcebace7",
   "metadata": {
    "id": "764c3e41-a5af-46c2-a27d-fcb3dcebace7",
    "outputId": "165362fb-62db-4629-eca6-72a52727cb99",
    "tags": []
   },
   "outputs": [
    {
     "data": {
      "text/plain": [
       "firm                    object\n",
       "date_review             object\n",
       "job_title               object\n",
       "current                 object\n",
       "location                object\n",
       "overall_rating           int64\n",
       "work_life_balance      float64\n",
       "culture_values         float64\n",
       "diversity_inclusion    float64\n",
       "career_opp             float64\n",
       "comp_benefits          float64\n",
       "senior_mgmt            float64\n",
       "recommend               object\n",
       "ceo_approv              object\n",
       "outlook                 object\n",
       "headline                object\n",
       "pros                    object\n",
       "cons                    object\n",
       "dtype: object"
      ]
     },
     "execution_count": 11,
     "metadata": {},
     "output_type": "execute_result"
    }
   ],
   "source": [
    "reviews_df.dtypes"
   ]
  },
  {
   "cell_type": "markdown",
   "id": "d54b2acd-b0a4-42fa-a249-2b04ebbc4497",
   "metadata": {
    "id": "d54b2acd-b0a4-42fa-a249-2b04ebbc4497",
    "tags": []
   },
   "source": [
    "#### The date_review column should be of type datetime, we can change that now."
   ]
  },
  {
   "cell_type": "code",
   "execution_count": null,
   "id": "eb1b5d39-5798-4746-a65f-c64cffa9e9d9",
   "metadata": {
    "id": "eb1b5d39-5798-4746-a65f-c64cffa9e9d9",
    "outputId": "c388c108-9c54-4dcc-cc2c-e12f3c70648b",
    "tags": []
   },
   "outputs": [
    {
     "data": {
      "text/plain": [
       "firm                           object\n",
       "date_review            datetime64[ns]\n",
       "job_title                      object\n",
       "current                        object\n",
       "location                       object\n",
       "overall_rating                  int64\n",
       "work_life_balance             float64\n",
       "culture_values                float64\n",
       "diversity_inclusion           float64\n",
       "career_opp                    float64\n",
       "comp_benefits                 float64\n",
       "senior_mgmt                   float64\n",
       "recommend                      object\n",
       "ceo_approv                     object\n",
       "outlook                        object\n",
       "headline                       object\n",
       "pros                           object\n",
       "cons                           object\n",
       "dtype: object"
      ]
     },
     "execution_count": 12,
     "metadata": {},
     "output_type": "execute_result"
    }
   ],
   "source": [
    "reviews_df.date_review = reviews_df.date_review.astype({'date_review' : 'datetime64[ns]'})\n",
    "\n",
    "# Verifying that the date_review column is now the correct type.\n",
    "reviews_df.dtypes"
   ]
  },
  {
   "cell_type": "markdown",
   "id": "7d7835b9-c1e4-4855-8910-788a04a69914",
   "metadata": {
    "id": "7d7835b9-c1e4-4855-8910-788a04a69914"
   },
   "source": [
    "### c. Reformatting Column Values"
   ]
  },
  {
   "cell_type": "markdown",
   "id": "af309e5b-a6cf-4113-984b-4d5f3c5c0b3a",
   "metadata": {
    "id": "af309e5b-a6cf-4113-984b-4d5f3c5c0b3a",
    "tags": []
   },
   "source": [
    "#### The format of the values in the location column makes it difficult to perform categorical analysis on it."
   ]
  },
  {
   "cell_type": "code",
   "execution_count": null,
   "id": "c7da737e-bad0-499d-a6a5-3a0f664502ac",
   "metadata": {
    "id": "c7da737e-bad0-499d-a6a5-3a0f664502ac",
    "outputId": "c4da4b68-2ad4-48e5-d397-1fa31cc6dae1",
    "tags": []
   },
   "outputs": [
    {
     "data": {
      "text/plain": [
       "14488"
      ]
     },
     "execution_count": 13,
     "metadata": {},
     "output_type": "execute_result"
    }
   ],
   "source": [
    "reviews_df.location.nunique()"
   ]
  },
  {
   "cell_type": "markdown",
   "id": "10a92161-169b-4c47-8f75-97fcd2dc0c98",
   "metadata": {
    "id": "10a92161-169b-4c47-8f75-97fcd2dc0c98"
   },
   "source": [
    "#### There are almost 14,500 unique values in the location column. Assuming the exact address does not provide any meaningful insights, then we can truncate the values to include only the major location listed, making analysis more focused and effective."
   ]
  },
  {
   "cell_type": "code",
   "execution_count": null,
   "id": "8f72916a-286e-4387-b135-1826c46ef618",
   "metadata": {
    "id": "8f72916a-286e-4387-b135-1826c46ef618",
    "tags": []
   },
   "outputs": [],
   "source": [
    "location_cleaned = []\n",
    "\n",
    "# Split location names by commas and take only the last segment.\n",
    "for i in range(0, len(reviews_df.location)):\n",
    "    location_cleaned.append(reviews_df.location[i].split(\",\")[-1].strip())"
   ]
  },
  {
   "cell_type": "code",
   "execution_count": null,
   "id": "31a3939d-01cb-462f-b364-b14d0a31d7db",
   "metadata": {
    "id": "31a3939d-01cb-462f-b364-b14d0a31d7db",
    "outputId": "60e85493-a513-495d-a618-d279cfe94729",
    "tags": []
   },
   "outputs": [
    {
     "data": {
      "text/html": [
       "<div>\n",
       "<style scoped>\n",
       "    .dataframe tbody tr th:only-of-type {\n",
       "        vertical-align: middle;\n",
       "    }\n",
       "\n",
       "    .dataframe tbody tr th {\n",
       "        vertical-align: top;\n",
       "    }\n",
       "\n",
       "    .dataframe thead th {\n",
       "        text-align: right;\n",
       "    }\n",
       "</style>\n",
       "<table border=\"1\" class=\"dataframe\">\n",
       "  <thead>\n",
       "    <tr style=\"text-align: right;\">\n",
       "      <th></th>\n",
       "      <th>firm</th>\n",
       "      <th>date_review</th>\n",
       "      <th>job_title</th>\n",
       "      <th>current</th>\n",
       "      <th>location</th>\n",
       "      <th>overall_rating</th>\n",
       "      <th>work_life_balance</th>\n",
       "      <th>culture_values</th>\n",
       "      <th>diversity_inclusion</th>\n",
       "      <th>career_opp</th>\n",
       "      <th>comp_benefits</th>\n",
       "      <th>senior_mgmt</th>\n",
       "      <th>recommend</th>\n",
       "      <th>ceo_approv</th>\n",
       "      <th>outlook</th>\n",
       "      <th>headline</th>\n",
       "      <th>pros</th>\n",
       "      <th>cons</th>\n",
       "    </tr>\n",
       "  </thead>\n",
       "  <tbody>\n",
       "    <tr>\n",
       "      <th>0</th>\n",
       "      <td>AFH-Wealth-Management</td>\n",
       "      <td>2015-04-05</td>\n",
       "      <td>Anonymous Employee</td>\n",
       "      <td>Current Employee</td>\n",
       "      <td>Not Given</td>\n",
       "      <td>2</td>\n",
       "      <td>4.0</td>\n",
       "      <td>3.0</td>\n",
       "      <td>0.0</td>\n",
       "      <td>2.0</td>\n",
       "      <td>3.0</td>\n",
       "      <td>3.0</td>\n",
       "      <td>x</td>\n",
       "      <td>o</td>\n",
       "      <td>r</td>\n",
       "      <td>Young colleagues, poor micro management</td>\n",
       "      <td>Very friendly and welcoming to new staff. Easy...</td>\n",
       "      <td>Poor salaries, poor training and communication.</td>\n",
       "    </tr>\n",
       "    <tr>\n",
       "      <th>1</th>\n",
       "      <td>AFH-Wealth-Management</td>\n",
       "      <td>2015-12-11</td>\n",
       "      <td>Office Administrator</td>\n",
       "      <td>Current Employee, more than 1 year</td>\n",
       "      <td>England</td>\n",
       "      <td>2</td>\n",
       "      <td>3.0</td>\n",
       "      <td>1.0</td>\n",
       "      <td>0.0</td>\n",
       "      <td>2.0</td>\n",
       "      <td>1.0</td>\n",
       "      <td>4.0</td>\n",
       "      <td>x</td>\n",
       "      <td>o</td>\n",
       "      <td>r</td>\n",
       "      <td>Excellent staff, poor salary</td>\n",
       "      <td>Friendly, helpful and hard-working colleagues</td>\n",
       "      <td>Poor salary which doesn't improve much with pr...</td>\n",
       "    </tr>\n",
       "    <tr>\n",
       "      <th>2</th>\n",
       "      <td>AFH-Wealth-Management</td>\n",
       "      <td>2016-01-28</td>\n",
       "      <td>Office Administrator</td>\n",
       "      <td>Current Employee, less than 1 year</td>\n",
       "      <td>England</td>\n",
       "      <td>1</td>\n",
       "      <td>1.0</td>\n",
       "      <td>1.0</td>\n",
       "      <td>0.0</td>\n",
       "      <td>1.0</td>\n",
       "      <td>1.0</td>\n",
       "      <td>1.0</td>\n",
       "      <td>x</td>\n",
       "      <td>o</td>\n",
       "      <td>x</td>\n",
       "      <td>Low salary, bad micromanagement</td>\n",
       "      <td>Easy to get the job even without experience in...</td>\n",
       "      <td>Very low salary, poor working conditions, very...</td>\n",
       "    </tr>\n",
       "  </tbody>\n",
       "</table>\n",
       "</div>"
      ],
      "text/plain": [
       "                    firm date_review              job_title  \\\n",
       "0  AFH-Wealth-Management  2015-04-05     Anonymous Employee   \n",
       "1  AFH-Wealth-Management  2015-12-11   Office Administrator   \n",
       "2  AFH-Wealth-Management  2016-01-28   Office Administrator   \n",
       "\n",
       "                              current   location  overall_rating  \\\n",
       "0                    Current Employee  Not Given               2   \n",
       "1  Current Employee, more than 1 year    England               2   \n",
       "2  Current Employee, less than 1 year    England               1   \n",
       "\n",
       "   work_life_balance  culture_values  diversity_inclusion  career_opp  \\\n",
       "0                4.0             3.0                  0.0         2.0   \n",
       "1                3.0             1.0                  0.0         2.0   \n",
       "2                1.0             1.0                  0.0         1.0   \n",
       "\n",
       "   comp_benefits  senior_mgmt recommend ceo_approv outlook  \\\n",
       "0            3.0          3.0         x          o       r   \n",
       "1            1.0          4.0         x          o       r   \n",
       "2            1.0          1.0         x          o       x   \n",
       "\n",
       "                                  headline  \\\n",
       "0  Young colleagues, poor micro management   \n",
       "1             Excellent staff, poor salary   \n",
       "2          Low salary, bad micromanagement   \n",
       "\n",
       "                                                pros  \\\n",
       "0  Very friendly and welcoming to new staff. Easy...   \n",
       "1      Friendly, helpful and hard-working colleagues   \n",
       "2  Easy to get the job even without experience in...   \n",
       "\n",
       "                                                cons  \n",
       "0    Poor salaries, poor training and communication.  \n",
       "1  Poor salary which doesn't improve much with pr...  \n",
       "2  Very low salary, poor working conditions, very...  "
      ]
     },
     "execution_count": 15,
     "metadata": {},
     "output_type": "execute_result"
    }
   ],
   "source": [
    "# Verify that the locations have been changed.\n",
    "\n",
    "reviews_df.location = location_cleaned\n",
    "reviews_df.head(3)"
   ]
  },
  {
   "cell_type": "code",
   "execution_count": null,
   "id": "e4bb1e02-11a2-478a-9cff-19204932118d",
   "metadata": {
    "id": "e4bb1e02-11a2-478a-9cff-19204932118d",
    "outputId": "997a4012-f457-49d9-804f-3a51ee8e4a12",
    "tags": []
   },
   "outputs": [
    {
     "data": {
      "text/plain": [
       "3463"
      ]
     },
     "execution_count": 16,
     "metadata": {},
     "output_type": "execute_result"
    }
   ],
   "source": [
    "# Updated number of locations after changes\n",
    "\n",
    "reviews_df.location.nunique()"
   ]
  },
  {
   "cell_type": "markdown",
   "id": "317d56b0-7387-40bb-a3f5-791d8c0658ce",
   "metadata": {
    "id": "317d56b0-7387-40bb-a3f5-791d8c0658ce"
   },
   "source": [
    "#### There are still some issues we can address. First, we can convert abbreviated state names to their full state names with the help of an imported dictionary."
   ]
  },
  {
   "cell_type": "code",
   "execution_count": null,
   "id": "f65e8af2-0acc-41ee-aa5b-400f555d8402",
   "metadata": {
    "id": "f65e8af2-0acc-41ee-aa5b-400f555d8402",
    "tags": []
   },
   "outputs": [],
   "source": [
    "# Dictionary of state abbreviation and state name key-pair values\n",
    "from us_state_abbrev import abbrev_to_us_state\n",
    "\n",
    "states_cleaned = []\n",
    "\n",
    "for i in range(0, len(reviews_df.location)):\n",
    "    if reviews_df.location[i] in abbrev_to_us_state:\n",
    "        states_cleaned.append(abbrev_to_us_state[reviews_df.location[i]])\n",
    "    else:\n",
    "        states_cleaned.append(reviews_df.location[i])"
   ]
  },
  {
   "cell_type": "code",
   "execution_count": null,
   "id": "1a6d0aa0-71b9-4aa2-b321-4488f59d0f62",
   "metadata": {
    "id": "1a6d0aa0-71b9-4aa2-b321-4488f59d0f62",
    "outputId": "0e27c4ef-673e-4501-eda9-e71a1e7b4eaf",
    "tags": []
   },
   "outputs": [
    {
     "data": {
      "text/plain": [
       "3459"
      ]
     },
     "execution_count": 26,
     "metadata": {},
     "output_type": "execute_result"
    }
   ],
   "source": [
    "# Re-verify number of locations after change\n",
    "\n",
    "reviews_df.location = states_cleaned\n",
    "reviews_df.location.nunique()"
   ]
  },
  {
   "cell_type": "code",
   "execution_count": null,
   "id": "eb333a05-f378-4239-a49f-090f3a9599a0",
   "metadata": {
    "id": "eb333a05-f378-4239-a49f-090f3a9599a0",
    "outputId": "c6c7433c-b7b2-4a20-e99a-e010fa0b724b",
    "tags": []
   },
   "outputs": [
    {
     "data": {
      "text/html": [
       "<div>\n",
       "<style scoped>\n",
       "    .dataframe tbody tr th:only-of-type {\n",
       "        vertical-align: middle;\n",
       "    }\n",
       "\n",
       "    .dataframe tbody tr th {\n",
       "        vertical-align: top;\n",
       "    }\n",
       "\n",
       "    .dataframe thead th {\n",
       "        text-align: right;\n",
       "    }\n",
       "</style>\n",
       "<table border=\"1\" class=\"dataframe\">\n",
       "  <thead>\n",
       "    <tr style=\"text-align: right;\">\n",
       "      <th></th>\n",
       "      <th>firm</th>\n",
       "      <th>date_review</th>\n",
       "      <th>job_title</th>\n",
       "      <th>current</th>\n",
       "      <th>location</th>\n",
       "      <th>overall_rating</th>\n",
       "      <th>work_life_balance</th>\n",
       "      <th>culture_values</th>\n",
       "      <th>diversity_inclusion</th>\n",
       "      <th>career_opp</th>\n",
       "      <th>comp_benefits</th>\n",
       "      <th>senior_mgmt</th>\n",
       "      <th>recommend</th>\n",
       "      <th>ceo_approv</th>\n",
       "      <th>outlook</th>\n",
       "      <th>headline</th>\n",
       "      <th>pros</th>\n",
       "      <th>cons</th>\n",
       "    </tr>\n",
       "  </thead>\n",
       "  <tbody>\n",
       "    <tr>\n",
       "      <th>700</th>\n",
       "      <td>ALDI</td>\n",
       "      <td>2020-08-08</td>\n",
       "      <td>Retail Store Assistant</td>\n",
       "      <td>Former Employee, more than 3 years</td>\n",
       "      <td>New York</td>\n",
       "      <td>1</td>\n",
       "      <td>3.0</td>\n",
       "      <td>1.0</td>\n",
       "      <td>0.0</td>\n",
       "      <td>1.0</td>\n",
       "      <td>3.0</td>\n",
       "      <td>1.0</td>\n",
       "      <td>x</td>\n",
       "      <td>r</td>\n",
       "      <td>x</td>\n",
       "      <td>don't get fooled</td>\n",
       "      <td>The pay, thats how they keep people for so long.</td>\n",
       "      <td>management are awful, they stand idle whilst y...</td>\n",
       "    </tr>\n",
       "    <tr>\n",
       "      <th>701</th>\n",
       "      <td>ALDI</td>\n",
       "      <td>2020-08-08</td>\n",
       "      <td>Store Assistant</td>\n",
       "      <td>Current Employee</td>\n",
       "      <td>New York</td>\n",
       "      <td>3</td>\n",
       "      <td>0.0</td>\n",
       "      <td>0.0</td>\n",
       "      <td>0.0</td>\n",
       "      <td>0.0</td>\n",
       "      <td>0.0</td>\n",
       "      <td>0.0</td>\n",
       "      <td>o</td>\n",
       "      <td>o</td>\n",
       "      <td>o</td>\n",
       "      <td>Aldi</td>\n",
       "      <td>Good pay , team , work fast</td>\n",
       "      <td>Not enough hours for all the staff</td>\n",
       "    </tr>\n",
       "    <tr>\n",
       "      <th>707</th>\n",
       "      <td>ALDI</td>\n",
       "      <td>2020-08-13</td>\n",
       "      <td>Stock Assistant</td>\n",
       "      <td>Former Employee, more than 1 year</td>\n",
       "      <td>New York</td>\n",
       "      <td>3</td>\n",
       "      <td>2.0</td>\n",
       "      <td>2.0</td>\n",
       "      <td>0.0</td>\n",
       "      <td>3.0</td>\n",
       "      <td>4.0</td>\n",
       "      <td>2.0</td>\n",
       "      <td>v</td>\n",
       "      <td>r</td>\n",
       "      <td>r</td>\n",
       "      <td>Good wages</td>\n",
       "      <td>Good wages\\r\\nfloor staff generally ok</td>\n",
       "      <td>Most deputy managers power hungry and unnecess...</td>\n",
       "    </tr>\n",
       "  </tbody>\n",
       "</table>\n",
       "</div>"
      ],
      "text/plain": [
       "     firm date_review                job_title  \\\n",
       "700  ALDI  2020-08-08   Retail Store Assistant   \n",
       "701  ALDI  2020-08-08          Store Assistant   \n",
       "707  ALDI  2020-08-13          Stock Assistant   \n",
       "\n",
       "                                current  location  overall_rating  \\\n",
       "700  Former Employee, more than 3 years  New York               1   \n",
       "701                    Current Employee  New York               3   \n",
       "707   Former Employee, more than 1 year  New York               3   \n",
       "\n",
       "     work_life_balance  culture_values  diversity_inclusion  career_opp  \\\n",
       "700                3.0             1.0                  0.0         1.0   \n",
       "701                0.0             0.0                  0.0         0.0   \n",
       "707                2.0             2.0                  0.0         3.0   \n",
       "\n",
       "     comp_benefits  senior_mgmt recommend ceo_approv outlook  \\\n",
       "700            3.0          1.0         x          r       x   \n",
       "701            0.0          0.0         o          o       o   \n",
       "707            4.0          2.0         v          r       r   \n",
       "\n",
       "             headline                                              pros  \\\n",
       "700  don't get fooled  The pay, thats how they keep people for so long.   \n",
       "701              Aldi                       Good pay , team , work fast   \n",
       "707        Good wages            Good wages\\r\\nfloor staff generally ok   \n",
       "\n",
       "                                                  cons  \n",
       "700  management are awful, they stand idle whilst y...  \n",
       "701                 Not enough hours for all the staff  \n",
       "707  Most deputy managers power hungry and unnecess...  "
      ]
     },
     "execution_count": 25,
     "metadata": {},
     "output_type": "execute_result"
    }
   ],
   "source": [
    "# Verify that states are correctly formatted now\n",
    "\n",
    "state_filter = reviews_df.location == 'New York'\n",
    "reviews_df[state_filter].head(3)"
   ]
  },
  {
   "cell_type": "markdown",
   "id": "dc810d3c-b654-4f66-9b12-99c71f9f85d8",
   "metadata": {
    "id": "dc810d3c-b654-4f66-9b12-99c71f9f85d8"
   },
   "source": [
    "#### The \"current\" column also has redundant categories that we can simplify, as well as some error values."
   ]
  },
  {
   "cell_type": "code",
   "execution_count": null,
   "id": "4483f0e9-3603-42a8-aeab-60979fbb2366",
   "metadata": {
    "id": "4483f0e9-3603-42a8-aeab-60979fbb2366",
    "outputId": "ed25e30f-ecec-44f1-ff9c-08737964e5d4",
    "tags": []
   },
   "outputs": [
    {
     "data": {
      "text/plain": [
       "array(['Current Employee', 'Current Employee, more than 1 year',\n",
       "       'Current Employee, less than 1 year', 'Former Employee',\n",
       "       'Current Employee, more than 5 years',\n",
       "       'Former Employee, more than 1 year',\n",
       "       'Former Employee, more than 3 years',\n",
       "       'Former Employee, more than 5 years',\n",
       "       'Current Employee, more than 3 years',\n",
       "       'Current Employee, more than 8 years',\n",
       "       'Former Employee, less than 1 year',\n",
       "       'Former Employee, more than 8 years',\n",
       "       'Current Employee, more than 10 years',\n",
       "       'Former Employee, more than 10 years',\n",
       "       'Former Contractor, less than 1 year',\n",
       "       'Former Intern, less than 1 year',\n",
       "       'Current Contractor, less than 1 year', 'Former Contractor',\n",
       "       'Former Intern, more than 1 year', 'Current Contractor',\n",
       "       'Former Intern', 'Current Intern, less than 1 year',\n",
       "       'Current Contractor, more than 1 year',\n",
       "       'Former Contractor, more than 1 year',\n",
       "       'Former Contractor, more than 8 years',\n",
       "       'Former Temporary Employee',\n",
       "       'KEY NOT FOUND: jobLine.per_diem-former',\n",
       "       'Current Freelancer, more than 3 years',\n",
       "       'KEY NOT FOUND: jobLine.temporary-former'], dtype=object)"
      ]
     },
     "execution_count": 27,
     "metadata": {},
     "output_type": "execute_result"
    }
   ],
   "source": [
    "reviews_df.current.unique()"
   ]
  },
  {
   "cell_type": "code",
   "execution_count": null,
   "id": "7adbf6c3-5d3c-417e-81e4-0d8848f036c3",
   "metadata": {
    "id": "7adbf6c3-5d3c-417e-81e4-0d8848f036c3",
    "tags": []
   },
   "outputs": [],
   "source": [
    "current_cleaned = []\n",
    "\n",
    "# Split current name into seperate words and take only the first word, 'Current' or 'Former'\n",
    "for i in range(0, len(reviews_df.location)):\n",
    "    current_cleaned.append(reviews_df.current[i].split()[0])"
   ]
  },
  {
   "cell_type": "code",
   "execution_count": null,
   "id": "2a31912d-ed69-4bed-9874-a65fb445dd0c",
   "metadata": {
    "id": "2a31912d-ed69-4bed-9874-a65fb445dd0c",
    "outputId": "64c5c199-98f7-401a-aa70-590a7d46dae0",
    "tags": []
   },
   "outputs": [
    {
     "data": {
      "text/plain": [
       "array(['Current', 'Former', 'KEY'], dtype=object)"
      ]
     },
     "execution_count": 31,
     "metadata": {},
     "output_type": "execute_result"
    }
   ],
   "source": [
    "# Replace \"Current\" column with cleaned result\n",
    "reviews_df.current = current_cleaned\n",
    "\n",
    "# Verify new \"Current\" values\n",
    "reviews_df.current.unique()"
   ]
  },
  {
   "cell_type": "markdown",
   "id": "5a753edd-cdce-4fa2-85a0-2cce61973b9a",
   "metadata": {
    "id": "5a753edd-cdce-4fa2-85a0-2cce61973b9a"
   },
   "source": [
    "#### Fortunately, both error values KEY seem to indicate that they represent the \"Former\" status, so we can replace the values \"KEY\" with \"Former\" directly."
   ]
  },
  {
   "cell_type": "code",
   "execution_count": null,
   "id": "b486d44a-2ee8-4e7e-9aae-4081bef7b3b1",
   "metadata": {
    "id": "b486d44a-2ee8-4e7e-9aae-4081bef7b3b1",
    "outputId": "47ae4313-fdad-49c1-9b21-949d8f6e4ee2",
    "tags": []
   },
   "outputs": [
    {
     "data": {
      "text/plain": [
       "array(['Current', 'Former'], dtype=object)"
      ]
     },
     "execution_count": 32,
     "metadata": {},
     "output_type": "execute_result"
    }
   ],
   "source": [
    "# Replace \"KEY\" error values with \"Former\"\n",
    "reviews_df.current = reviews_df.current.replace('KEY', 'Former')\n",
    "\n",
    "# Verify that only Current and Former values remain in the \"Current\" column\n",
    "reviews_df.current.unique()"
   ]
  },
  {
   "cell_type": "markdown",
   "id": "5670a9a0-5f88-443d-b11e-42d7c8636601",
   "metadata": {
    "id": "5670a9a0-5f88-443d-b11e-42d7c8636601"
   },
   "source": [
    "### d. Handling Duplicate Rows"
   ]
  },
  {
   "cell_type": "markdown",
   "id": "fca962f9-a037-4bff-8167-969d0d90a517",
   "metadata": {},
   "source": [
    "#### Now that we have finished all other relevant data cleaning tasks, we can check for any duplicate rows in the table. If any are found, we can drop them."
   ]
  },
  {
   "cell_type": "code",
   "execution_count": null,
   "id": "2ca4c7fc-38b1-416b-bb94-fc44e0843e90",
   "metadata": {
    "id": "2ca4c7fc-38b1-416b-bb94-fc44e0843e90",
    "outputId": "a106a35a-c51a-42c1-eeb5-46b579da785c",
    "tags": []
   },
   "outputs": [
    {
     "data": {
      "text/plain": [
       "33612"
      ]
     },
     "execution_count": 33,
     "metadata": {},
     "output_type": "execute_result"
    }
   ],
   "source": [
    "# Check for the total amount of duplicate rows\n",
    "len(reviews_df)-len(reviews_df.drop_duplicates())"
   ]
  },
  {
   "cell_type": "code",
   "execution_count": null,
   "id": "59359c4e-fcd7-4c2a-a65c-f008cc854c79",
   "metadata": {
    "id": "59359c4e-fcd7-4c2a-a65c-f008cc854c79",
    "outputId": "a1727a10-a491-4ae8-8025-292c61576f19",
    "tags": []
   },
   "outputs": [
    {
     "data": {
      "text/plain": [
       "0"
      ]
     },
     "execution_count": 36,
     "metadata": {},
     "output_type": "execute_result"
    }
   ],
   "source": [
    "# Drop duplicates from the table\n",
    "reviews_df = reviews_df.drop_duplicates()\n",
    "\n",
    "# Verify that there are no longer duplicate rows in our table\n",
    "len(reviews_df)-len(reviews_df.drop_duplicates())"
   ]
  },
  {
   "cell_type": "markdown",
   "id": "bd6075a2-fffb-44a0-a2df-21847b29d373",
   "metadata": {
    "id": "bd6075a2-fffb-44a0-a2df-21847b29d373"
   },
   "source": [
    "#### We are now done with the data cleaning process, and we can use Pandas to save our clean dataframe to a new CSV which we can explore and analyze in our later stages."
   ]
  },
  {
   "cell_type": "code",
   "execution_count": null,
   "id": "95a3a509-95ee-4cfe-80ae-5ab767cd0b81",
   "metadata": {},
   "outputs": [],
   "source": [
    "reviews_df.to_csv('glassdoor_reviews_clean.csv', index=False)"
   ]
  },
  {
   "cell_type": "markdown",
   "id": "17b94d61-19f8-461b-84eb-62e0b934a0e6",
   "metadata": {
    "id": "17b94d61-19f8-461b-84eb-62e0b934a0e6"
   },
   "source": [
    "## 3. Data Summary"
   ]
  },
  {
   "cell_type": "code",
   "execution_count": 3,
   "id": "c69b9640-97a7-494a-bde5-2ae0e1e11b27",
   "metadata": {
    "id": "c69b9640-97a7-494a-bde5-2ae0e1e11b27",
    "tags": []
   },
   "outputs": [],
   "source": [
    "# Initializing new cleaned dataframe.\n",
    "\n",
    "reviews_clean_df = pd.read_csv('glassdoor_reviews_clean.csv')"
   ]
  },
  {
   "cell_type": "code",
   "execution_count": 10,
   "id": "c4ac2d47-c7bd-401c-b273-af18d2030819",
   "metadata": {
    "id": "c4ac2d47-c7bd-401c-b273-af18d2030819",
    "outputId": "91b00b28-7ab4-41ff-e499-4e1c2097892b",
    "tags": []
   },
   "outputs": [
    {
     "data": {
      "text/plain": [
       "(804954, 18)"
      ]
     },
     "execution_count": 10,
     "metadata": {},
     "output_type": "execute_result"
    }
   ],
   "source": [
    "# Verifying number of rows and columns in the new dataframe.\n",
    "\n",
    "reviews_clean_df.shape"
   ]
  },
  {
   "cell_type": "markdown",
   "id": "2bde8687-028c-4a71-b544-be4db6dae5b4",
   "metadata": {
    "id": "2bde8687-028c-4a71-b544-be4db6dae5b4"
   },
   "source": [
    "### a. General Information"
   ]
  },
  {
   "cell_type": "markdown",
   "id": "91b0c9bd-0dfe-465a-9d46-362c03124301",
   "metadata": {},
   "source": [
    "#### The describe() function is a very valuable tool when beginning the data summary stage, as it can give you many insights on the data distribution, ranges, and top values of our columns that we can use to decide which columns to take a closer look at."
   ]
  },
  {
   "cell_type": "code",
   "execution_count": 6,
   "id": "2bdb3aaa-5ef4-4f7a-b52c-7b0d82f16514",
   "metadata": {
    "id": "2bdb3aaa-5ef4-4f7a-b52c-7b0d82f16514",
    "outputId": "54daecfc-552a-4d17-bf8d-628e84b57b41",
    "tags": []
   },
   "outputs": [
    {
     "data": {
      "text/html": [
       "<div>\n",
       "<style scoped>\n",
       "    .dataframe tbody tr th:only-of-type {\n",
       "        vertical-align: middle;\n",
       "    }\n",
       "\n",
       "    .dataframe tbody tr th {\n",
       "        vertical-align: top;\n",
       "    }\n",
       "\n",
       "    .dataframe thead th {\n",
       "        text-align: right;\n",
       "    }\n",
       "</style>\n",
       "<table border=\"1\" class=\"dataframe\">\n",
       "  <thead>\n",
       "    <tr style=\"text-align: right;\">\n",
       "      <th></th>\n",
       "      <th>firm</th>\n",
       "      <th>date_review</th>\n",
       "      <th>job_title</th>\n",
       "      <th>current</th>\n",
       "      <th>location</th>\n",
       "      <th>overall_rating</th>\n",
       "      <th>work_life_balance</th>\n",
       "      <th>culture_values</th>\n",
       "      <th>diversity_inclusion</th>\n",
       "      <th>career_opp</th>\n",
       "      <th>comp_benefits</th>\n",
       "      <th>senior_mgmt</th>\n",
       "      <th>recommend</th>\n",
       "      <th>ceo_approv</th>\n",
       "      <th>outlook</th>\n",
       "      <th>headline</th>\n",
       "      <th>pros</th>\n",
       "      <th>cons</th>\n",
       "    </tr>\n",
       "  </thead>\n",
       "  <tbody>\n",
       "    <tr>\n",
       "      <th>count</th>\n",
       "      <td>804954</td>\n",
       "      <td>804954</td>\n",
       "      <td>804954</td>\n",
       "      <td>804954</td>\n",
       "      <td>804611</td>\n",
       "      <td>804954.000000</td>\n",
       "      <td>660906.000000</td>\n",
       "      <td>621604.000000</td>\n",
       "      <td>130872.000000</td>\n",
       "      <td>663240.000000</td>\n",
       "      <td>660724.000000</td>\n",
       "      <td>655163.000000</td>\n",
       "      <td>804954</td>\n",
       "      <td>804954</td>\n",
       "      <td>804954</td>\n",
       "      <td>802855</td>\n",
       "      <td>804954</td>\n",
       "      <td>804946</td>\n",
       "    </tr>\n",
       "    <tr>\n",
       "      <th>unique</th>\n",
       "      <td>428</td>\n",
       "      <td>4813</td>\n",
       "      <td>62275</td>\n",
       "      <td>2</td>\n",
       "      <td>3458</td>\n",
       "      <td>NaN</td>\n",
       "      <td>NaN</td>\n",
       "      <td>NaN</td>\n",
       "      <td>NaN</td>\n",
       "      <td>NaN</td>\n",
       "      <td>NaN</td>\n",
       "      <td>NaN</td>\n",
       "      <td>3</td>\n",
       "      <td>4</td>\n",
       "      <td>4</td>\n",
       "      <td>390455</td>\n",
       "      <td>778560</td>\n",
       "      <td>777134</td>\n",
       "    </tr>\n",
       "    <tr>\n",
       "      <th>top</th>\n",
       "      <td>IBM</td>\n",
       "      <td>2021-01-13</td>\n",
       "      <td>Anonymous Employee</td>\n",
       "      <td>Current</td>\n",
       "      <td>Not Given</td>\n",
       "      <td>NaN</td>\n",
       "      <td>NaN</td>\n",
       "      <td>NaN</td>\n",
       "      <td>NaN</td>\n",
       "      <td>NaN</td>\n",
       "      <td>NaN</td>\n",
       "      <td>NaN</td>\n",
       "      <td>v</td>\n",
       "      <td>o</td>\n",
       "      <td>v</td>\n",
       "      <td>Good</td>\n",
       "      <td>Great company to work for</td>\n",
       "      <td>None that I can think of</td>\n",
       "    </tr>\n",
       "    <tr>\n",
       "      <th>freq</th>\n",
       "      <td>49287</td>\n",
       "      <td>1705</td>\n",
       "      <td>155833</td>\n",
       "      <td>471133</td>\n",
       "      <td>285090</td>\n",
       "      <td>NaN</td>\n",
       "      <td>NaN</td>\n",
       "      <td>NaN</td>\n",
       "      <td>NaN</td>\n",
       "      <td>NaN</td>\n",
       "      <td>NaN</td>\n",
       "      <td>NaN</td>\n",
       "      <td>411066</td>\n",
       "      <td>298417</td>\n",
       "      <td>290085</td>\n",
       "      <td>13706</td>\n",
       "      <td>697</td>\n",
       "      <td>1128</td>\n",
       "    </tr>\n",
       "    <tr>\n",
       "      <th>mean</th>\n",
       "      <td>NaN</td>\n",
       "      <td>NaN</td>\n",
       "      <td>NaN</td>\n",
       "      <td>NaN</td>\n",
       "      <td>NaN</td>\n",
       "      <td>3.656983</td>\n",
       "      <td>3.374781</td>\n",
       "      <td>3.590657</td>\n",
       "      <td>3.964240</td>\n",
       "      <td>3.459003</td>\n",
       "      <td>3.402238</td>\n",
       "      <td>3.178543</td>\n",
       "      <td>NaN</td>\n",
       "      <td>NaN</td>\n",
       "      <td>NaN</td>\n",
       "      <td>NaN</td>\n",
       "      <td>NaN</td>\n",
       "      <td>NaN</td>\n",
       "    </tr>\n",
       "    <tr>\n",
       "      <th>std</th>\n",
       "      <td>NaN</td>\n",
       "      <td>NaN</td>\n",
       "      <td>NaN</td>\n",
       "      <td>NaN</td>\n",
       "      <td>NaN</td>\n",
       "      <td>1.177029</td>\n",
       "      <td>1.306841</td>\n",
       "      <td>1.325228</td>\n",
       "      <td>1.193149</td>\n",
       "      <td>1.274124</td>\n",
       "      <td>1.220944</td>\n",
       "      <td>1.332907</td>\n",
       "      <td>NaN</td>\n",
       "      <td>NaN</td>\n",
       "      <td>NaN</td>\n",
       "      <td>NaN</td>\n",
       "      <td>NaN</td>\n",
       "      <td>NaN</td>\n",
       "    </tr>\n",
       "    <tr>\n",
       "      <th>min</th>\n",
       "      <td>NaN</td>\n",
       "      <td>NaN</td>\n",
       "      <td>NaN</td>\n",
       "      <td>NaN</td>\n",
       "      <td>NaN</td>\n",
       "      <td>1.000000</td>\n",
       "      <td>1.000000</td>\n",
       "      <td>1.000000</td>\n",
       "      <td>1.000000</td>\n",
       "      <td>1.000000</td>\n",
       "      <td>1.000000</td>\n",
       "      <td>1.000000</td>\n",
       "      <td>NaN</td>\n",
       "      <td>NaN</td>\n",
       "      <td>NaN</td>\n",
       "      <td>NaN</td>\n",
       "      <td>NaN</td>\n",
       "      <td>NaN</td>\n",
       "    </tr>\n",
       "    <tr>\n",
       "      <th>25%</th>\n",
       "      <td>NaN</td>\n",
       "      <td>NaN</td>\n",
       "      <td>NaN</td>\n",
       "      <td>NaN</td>\n",
       "      <td>NaN</td>\n",
       "      <td>3.000000</td>\n",
       "      <td>2.000000</td>\n",
       "      <td>3.000000</td>\n",
       "      <td>3.000000</td>\n",
       "      <td>3.000000</td>\n",
       "      <td>3.000000</td>\n",
       "      <td>2.000000</td>\n",
       "      <td>NaN</td>\n",
       "      <td>NaN</td>\n",
       "      <td>NaN</td>\n",
       "      <td>NaN</td>\n",
       "      <td>NaN</td>\n",
       "      <td>NaN</td>\n",
       "    </tr>\n",
       "    <tr>\n",
       "      <th>50%</th>\n",
       "      <td>NaN</td>\n",
       "      <td>NaN</td>\n",
       "      <td>NaN</td>\n",
       "      <td>NaN</td>\n",
       "      <td>NaN</td>\n",
       "      <td>4.000000</td>\n",
       "      <td>4.000000</td>\n",
       "      <td>4.000000</td>\n",
       "      <td>4.000000</td>\n",
       "      <td>4.000000</td>\n",
       "      <td>4.000000</td>\n",
       "      <td>3.000000</td>\n",
       "      <td>NaN</td>\n",
       "      <td>NaN</td>\n",
       "      <td>NaN</td>\n",
       "      <td>NaN</td>\n",
       "      <td>NaN</td>\n",
       "      <td>NaN</td>\n",
       "    </tr>\n",
       "    <tr>\n",
       "      <th>75%</th>\n",
       "      <td>NaN</td>\n",
       "      <td>NaN</td>\n",
       "      <td>NaN</td>\n",
       "      <td>NaN</td>\n",
       "      <td>NaN</td>\n",
       "      <td>5.000000</td>\n",
       "      <td>4.000000</td>\n",
       "      <td>5.000000</td>\n",
       "      <td>5.000000</td>\n",
       "      <td>5.000000</td>\n",
       "      <td>4.000000</td>\n",
       "      <td>4.000000</td>\n",
       "      <td>NaN</td>\n",
       "      <td>NaN</td>\n",
       "      <td>NaN</td>\n",
       "      <td>NaN</td>\n",
       "      <td>NaN</td>\n",
       "      <td>NaN</td>\n",
       "    </tr>\n",
       "    <tr>\n",
       "      <th>max</th>\n",
       "      <td>NaN</td>\n",
       "      <td>NaN</td>\n",
       "      <td>NaN</td>\n",
       "      <td>NaN</td>\n",
       "      <td>NaN</td>\n",
       "      <td>5.000000</td>\n",
       "      <td>5.000000</td>\n",
       "      <td>5.000000</td>\n",
       "      <td>5.000000</td>\n",
       "      <td>5.000000</td>\n",
       "      <td>5.000000</td>\n",
       "      <td>5.000000</td>\n",
       "      <td>NaN</td>\n",
       "      <td>NaN</td>\n",
       "      <td>NaN</td>\n",
       "      <td>NaN</td>\n",
       "      <td>NaN</td>\n",
       "      <td>NaN</td>\n",
       "    </tr>\n",
       "  </tbody>\n",
       "</table>\n",
       "</div>"
      ],
      "text/plain": [
       "          firm date_review            job_title  current   location  \\\n",
       "count   804954      804954               804954   804954     804611   \n",
       "unique     428        4813                62275        2       3458   \n",
       "top        IBM  2021-01-13   Anonymous Employee  Current  Not Given   \n",
       "freq     49287        1705               155833   471133     285090   \n",
       "mean       NaN         NaN                  NaN      NaN        NaN   \n",
       "std        NaN         NaN                  NaN      NaN        NaN   \n",
       "min        NaN         NaN                  NaN      NaN        NaN   \n",
       "25%        NaN         NaN                  NaN      NaN        NaN   \n",
       "50%        NaN         NaN                  NaN      NaN        NaN   \n",
       "75%        NaN         NaN                  NaN      NaN        NaN   \n",
       "max        NaN         NaN                  NaN      NaN        NaN   \n",
       "\n",
       "        overall_rating  work_life_balance  culture_values  \\\n",
       "count    804954.000000      660906.000000   621604.000000   \n",
       "unique             NaN                NaN             NaN   \n",
       "top                NaN                NaN             NaN   \n",
       "freq               NaN                NaN             NaN   \n",
       "mean          3.656983           3.374781        3.590657   \n",
       "std           1.177029           1.306841        1.325228   \n",
       "min           1.000000           1.000000        1.000000   \n",
       "25%           3.000000           2.000000        3.000000   \n",
       "50%           4.000000           4.000000        4.000000   \n",
       "75%           5.000000           4.000000        5.000000   \n",
       "max           5.000000           5.000000        5.000000   \n",
       "\n",
       "        diversity_inclusion     career_opp  comp_benefits    senior_mgmt  \\\n",
       "count         130872.000000  663240.000000  660724.000000  655163.000000   \n",
       "unique                  NaN            NaN            NaN            NaN   \n",
       "top                     NaN            NaN            NaN            NaN   \n",
       "freq                    NaN            NaN            NaN            NaN   \n",
       "mean               3.964240       3.459003       3.402238       3.178543   \n",
       "std                1.193149       1.274124       1.220944       1.332907   \n",
       "min                1.000000       1.000000       1.000000       1.000000   \n",
       "25%                3.000000       3.000000       3.000000       2.000000   \n",
       "50%                4.000000       4.000000       4.000000       3.000000   \n",
       "75%                5.000000       5.000000       4.000000       4.000000   \n",
       "max                5.000000       5.000000       5.000000       5.000000   \n",
       "\n",
       "       recommend ceo_approv outlook headline                       pros  \\\n",
       "count     804954     804954  804954   802855                     804954   \n",
       "unique         3          4       4   390455                     778560   \n",
       "top            v          o       v     Good  Great company to work for   \n",
       "freq      411066     298417  290085    13706                        697   \n",
       "mean         NaN        NaN     NaN      NaN                        NaN   \n",
       "std          NaN        NaN     NaN      NaN                        NaN   \n",
       "min          NaN        NaN     NaN      NaN                        NaN   \n",
       "25%          NaN        NaN     NaN      NaN                        NaN   \n",
       "50%          NaN        NaN     NaN      NaN                        NaN   \n",
       "75%          NaN        NaN     NaN      NaN                        NaN   \n",
       "max          NaN        NaN     NaN      NaN                        NaN   \n",
       "\n",
       "                            cons  \n",
       "count                     804946  \n",
       "unique                    777134  \n",
       "top     None that I can think of  \n",
       "freq                        1128  \n",
       "mean                         NaN  \n",
       "std                          NaN  \n",
       "min                          NaN  \n",
       "25%                          NaN  \n",
       "50%                          NaN  \n",
       "75%                          NaN  \n",
       "max                          NaN  "
      ]
     },
     "execution_count": 6,
     "metadata": {},
     "output_type": "execute_result"
    }
   ],
   "source": [
    "# Using the describe function, we can get a general sense of the dataset including the ranges and bounds for each column\n",
    "\n",
    "reviews_clean_df.replace(0, np.nan).describe(include = 'all')"
   ]
  },
  {
   "cell_type": "markdown",
   "id": "c9dedd37-6cd1-482e-a596-a91069219ff8",
   "metadata": {},
   "source": [
    "#### Now that the date column is correctly formatted, we can determine the temporal scope of the dataset by finding the date of the oldest and latest review included."
   ]
  },
  {
   "cell_type": "code",
   "execution_count": 25,
   "id": "b9b0c6b8-6cd6-40c3-b0ee-b781198d0101",
   "metadata": {
    "tags": []
   },
   "outputs": [
    {
     "name": "stdout",
     "output_type": "stream",
     "text": [
      "2008-01-31\n",
      "2021-06-08\n"
     ]
    }
   ],
   "source": [
    "oldest_review_date = reviews_clean_df['date_review'].min()\n",
    "latest_review_date = reviews_clean_df['date_review'].max()\n",
    "\n",
    "print(oldest_review_date)\n",
    "print(latest_review_date)"
   ]
  },
  {
   "cell_type": "markdown",
   "id": "4464bf22-9ab9-41d8-862c-c346da21f80e",
   "metadata": {},
   "source": [
    "#### The dataset includes spans a wide date range totaling 13 years, with the oldest review included submitted in early 2008, and the latest review submitted in the middle of 2021."
   ]
  },
  {
   "cell_type": "markdown",
   "id": "da41002d-d45f-4211-a03c-a8e4eaeba008",
   "metadata": {
    "id": "da41002d-d45f-4211-a03c-a8e4eaeba008"
   },
   "source": [
    "### b. Summary Statistics"
   ]
  },
  {
   "cell_type": "markdown",
   "id": "ced90fff-20e6-4589-a08c-7a8ae95c371f",
   "metadata": {},
   "source": [
    "#### The \"recommend\" column includes an employee's response on whether they recommend, don't recommend, or have no opinion on working for a particular firm, denoted by 'v', 'x', and 'o' respectively in the data. The percent distribution of these responses for the entire dataset is listed below."
   ]
  },
  {
   "cell_type": "code",
   "execution_count": null,
   "id": "91282ae0-eb60-4868-95db-89ab4a733400",
   "metadata": {
    "id": "91282ae0-eb60-4868-95db-89ab4a733400",
    "outputId": "ae3f2a35-dd1c-45d9-8ac9-c8b63a23d6c0"
   },
   "outputs": [
    {
     "data": {
      "text/plain": [
       "v    51.1%\n",
       "o    27.9%\n",
       "x    21.1%\n",
       "Name: recommend, dtype: object"
      ]
     },
     "execution_count": 40,
     "metadata": {},
     "output_type": "execute_result"
    }
   ],
   "source": [
    "# Percentage distribution of responses for the \"Recommend\" column\n",
    "\n",
    "reviews_clean_df.recommend.value_counts(normalize = True).mul(100).round(1).astype(str) + '%'"
   ]
  },
  {
   "cell_type": "markdown",
   "id": "ca059da1-d598-4868-8138-9e7be72db1d2",
   "metadata": {},
   "source": [
    "#### Looking at the describe() function we can see that some values are repeated in text columns such as \"headline\", \"pros\", and \"cons\". Using the value_counts() function we can take a look at the most frequently repeated responses in these sections."
   ]
  },
  {
   "cell_type": "code",
   "execution_count": 7,
   "id": "e30f366a-249a-4e2c-b098-847073510db0",
   "metadata": {
    "id": "e30f366a-249a-4e2c-b098-847073510db0",
    "outputId": "0896a0a6-4bdb-414d-8843-5b8ace5749cb",
    "tags": []
   },
   "outputs": [
    {
     "data": {
      "text/html": [
       "<div>\n",
       "<style scoped>\n",
       "    .dataframe tbody tr th:only-of-type {\n",
       "        vertical-align: middle;\n",
       "    }\n",
       "\n",
       "    .dataframe tbody tr th {\n",
       "        vertical-align: top;\n",
       "    }\n",
       "\n",
       "    .dataframe thead th {\n",
       "        text-align: right;\n",
       "    }\n",
       "</style>\n",
       "<table border=\"1\" class=\"dataframe\">\n",
       "  <thead>\n",
       "    <tr style=\"text-align: right;\">\n",
       "      <th></th>\n",
       "      <th>headline</th>\n",
       "    </tr>\n",
       "  </thead>\n",
       "  <tbody>\n",
       "    <tr>\n",
       "      <th>Good</th>\n",
       "      <td>13706</td>\n",
       "    </tr>\n",
       "    <tr>\n",
       "      <th>Great place to work</th>\n",
       "      <td>10923</td>\n",
       "    </tr>\n",
       "    <tr>\n",
       "      <th>Great</th>\n",
       "      <td>6070</td>\n",
       "    </tr>\n",
       "    <tr>\n",
       "      <th>Great company</th>\n",
       "      <td>5952</td>\n",
       "    </tr>\n",
       "    <tr>\n",
       "      <th>Good place to work</th>\n",
       "      <td>5812</td>\n",
       "    </tr>\n",
       "  </tbody>\n",
       "</table>\n",
       "</div>"
      ],
      "text/plain": [
       "                     headline\n",
       "Good                    13706\n",
       "Great place to work     10923\n",
       "Great                    6070\n",
       "Great company            5952\n",
       "Good place to work       5812"
      ]
     },
     "execution_count": 7,
     "metadata": {},
     "output_type": "execute_result"
    }
   ],
   "source": [
    "reviews_clean_df.headline.value_counts().to_frame().head(5)"
   ]
  },
  {
   "cell_type": "code",
   "execution_count": 8,
   "id": "7e3c397f-f5c2-4750-90ce-8ddb774547db",
   "metadata": {
    "id": "7e3c397f-f5c2-4750-90ce-8ddb774547db",
    "outputId": "0ef88336-a043-4f9f-8150-e88a2d5073e5",
    "tags": []
   },
   "outputs": [
    {
     "data": {
      "text/html": [
       "<div>\n",
       "<style scoped>\n",
       "    .dataframe tbody tr th:only-of-type {\n",
       "        vertical-align: middle;\n",
       "    }\n",
       "\n",
       "    .dataframe tbody tr th {\n",
       "        vertical-align: top;\n",
       "    }\n",
       "\n",
       "    .dataframe thead th {\n",
       "        text-align: right;\n",
       "    }\n",
       "</style>\n",
       "<table border=\"1\" class=\"dataframe\">\n",
       "  <thead>\n",
       "    <tr style=\"text-align: right;\">\n",
       "      <th></th>\n",
       "      <th>pros</th>\n",
       "    </tr>\n",
       "  </thead>\n",
       "  <tbody>\n",
       "    <tr>\n",
       "      <th>Great company to work for</th>\n",
       "      <td>697</td>\n",
       "    </tr>\n",
       "    <tr>\n",
       "      <th>Good company to work for</th>\n",
       "      <td>567</td>\n",
       "    </tr>\n",
       "    <tr>\n",
       "      <th>Great people to work with</th>\n",
       "      <td>490</td>\n",
       "    </tr>\n",
       "    <tr>\n",
       "      <th>Work life balance is good</th>\n",
       "      <td>439</td>\n",
       "    </tr>\n",
       "    <tr>\n",
       "      <th>Good people to work with</th>\n",
       "      <td>292</td>\n",
       "    </tr>\n",
       "  </tbody>\n",
       "</table>\n",
       "</div>"
      ],
      "text/plain": [
       "                           pros\n",
       "Great company to work for   697\n",
       "Good company to work for    567\n",
       "Great people to work with   490\n",
       "Work life balance is good   439\n",
       "Good people to work with    292"
      ]
     },
     "execution_count": 8,
     "metadata": {},
     "output_type": "execute_result"
    }
   ],
   "source": [
    "reviews_clean_df.pros.value_counts().to_frame().head(5)"
   ]
  },
  {
   "cell_type": "code",
   "execution_count": 9,
   "id": "41800ecf-fbe2-47f5-a559-291c13d6aaa4",
   "metadata": {
    "id": "41800ecf-fbe2-47f5-a559-291c13d6aaa4",
    "outputId": "1f33542d-42ad-4fbc-c8a3-046cfb73e551",
    "tags": []
   },
   "outputs": [
    {
     "data": {
      "text/html": [
       "<div>\n",
       "<style scoped>\n",
       "    .dataframe tbody tr th:only-of-type {\n",
       "        vertical-align: middle;\n",
       "    }\n",
       "\n",
       "    .dataframe tbody tr th {\n",
       "        vertical-align: top;\n",
       "    }\n",
       "\n",
       "    .dataframe thead th {\n",
       "        text-align: right;\n",
       "    }\n",
       "</style>\n",
       "<table border=\"1\" class=\"dataframe\">\n",
       "  <thead>\n",
       "    <tr style=\"text-align: right;\">\n",
       "      <th></th>\n",
       "      <th>cons</th>\n",
       "    </tr>\n",
       "  </thead>\n",
       "  <tbody>\n",
       "    <tr>\n",
       "      <th>None that I can think of</th>\n",
       "      <td>1128</td>\n",
       "    </tr>\n",
       "    <tr>\n",
       "      <th>None that I can think of.</th>\n",
       "      <td>432</td>\n",
       "    </tr>\n",
       "    <tr>\n",
       "      <th>None I can think of</th>\n",
       "      <td>332</td>\n",
       "    </tr>\n",
       "    <tr>\n",
       "      <th>Nothing I can think of</th>\n",
       "      <td>230</td>\n",
       "    </tr>\n",
       "    <tr>\n",
       "      <th>Long hours during busy season</th>\n",
       "      <td>214</td>\n",
       "    </tr>\n",
       "  </tbody>\n",
       "</table>\n",
       "</div>"
      ],
      "text/plain": [
       "                               cons\n",
       "None that I can think of       1128\n",
       "None that I can think of.       432\n",
       "None I can think of             332\n",
       "Nothing I can think of          230\n",
       "Long hours during busy season   214"
      ]
     },
     "execution_count": 9,
     "metadata": {},
     "output_type": "execute_result"
    }
   ],
   "source": [
    "reviews_clean_df.cons.value_counts().to_frame().head(5)"
   ]
  },
  {
   "cell_type": "markdown",
   "id": "7100a830-8cb3-4a66-8a9a-66948ba8df8f",
   "metadata": {},
   "source": [
    "#### We can use the sample() function to pull random samples from the Pros and Cons columns and get a general idea of often mentioned attributes in these columns."
   ]
  },
  {
   "cell_type": "code",
   "execution_count": null,
   "id": "a8382c3e-3c43-40d5-9c04-29e84c5b15fe",
   "metadata": {
    "id": "a8382c3e-3c43-40d5-9c04-29e84c5b15fe",
    "outputId": "eadb9cfb-60d2-40bb-fcc3-cb13cb2d1367",
    "tags": []
   },
   "outputs": [
    {
     "data": {
      "text/html": [
       "<div>\n",
       "<style scoped>\n",
       "    .dataframe tbody tr th:only-of-type {\n",
       "        vertical-align: middle;\n",
       "    }\n",
       "\n",
       "    .dataframe tbody tr th {\n",
       "        vertical-align: top;\n",
       "    }\n",
       "\n",
       "    .dataframe thead th {\n",
       "        text-align: right;\n",
       "    }\n",
       "</style>\n",
       "<table border=\"1\" class=\"dataframe\">\n",
       "  <thead>\n",
       "    <tr style=\"text-align: right;\">\n",
       "      <th></th>\n",
       "      <th>cons</th>\n",
       "    </tr>\n",
       "  </thead>\n",
       "  <tbody>\n",
       "    <tr>\n",
       "      <th>company is working on improving work life balance</th>\n",
       "      <td>1</td>\n",
       "    </tr>\n",
       "    <tr>\n",
       "      <th>Things in the restaurant were very disorganized</th>\n",
       "      <td>1</td>\n",
       "    </tr>\n",
       "    <tr>\n",
       "      <th>Bureaucracy, you are seen as a number- very hard to distinguish yourself since it is so large</th>\n",
       "      <td>1</td>\n",
       "    </tr>\n",
       "    <tr>\n",
       "      <th>- Poor transparency + feedback when it comes to promotion\\r\\n- Very little say in where you end up</th>\n",
       "      <td>1</td>\n",
       "    </tr>\n",
       "    <tr>\n",
       "      <th>management - old school, badly educated</th>\n",
       "      <td>1</td>\n",
       "    </tr>\n",
       "  </tbody>\n",
       "</table>\n",
       "</div>"
      ],
      "text/plain": [
       "                                                    cons\n",
       "company is working on improving work life balance      1\n",
       "Things in the restaurant were very disorganized        1\n",
       "Bureaucracy, you are seen as a number- very har...     1\n",
       "- Poor transparency + feedback when it comes to...     1\n",
       "management - old school, badly educated                1"
      ]
     },
     "execution_count": 88,
     "metadata": {},
     "output_type": "execute_result"
    }
   ],
   "source": [
    "reviews_clean_df.cons.value_counts().to_frame().sample(5)"
   ]
  },
  {
   "cell_type": "markdown",
   "id": "b43074fa-a05c-4f18-b2cf-eb3069e0c783",
   "metadata": {
    "id": "b43074fa-a05c-4f18-b2cf-eb3069e0c783"
   },
   "source": [
    "## 4. Data Analysis"
   ]
  },
  {
   "cell_type": "markdown",
   "id": "56199c17-f169-4371-95ca-0908340fd1db",
   "metadata": {
    "id": "56199c17-f169-4371-95ca-0908340fd1db"
   },
   "source": [
    "### __a. What is the correlation between the overall rating of the review and the current status of the employee at the company?__"
   ]
  },
  {
   "cell_type": "markdown",
   "id": "6bf1a271-120e-4604-8afa-a545f8a0258d",
   "metadata": {},
   "source": [
    "#### To answer this question, we can find the distribution of current and former employees compared to the overall rating, both for when the overall rating is high and for when the overall rating is low."
   ]
  },
  {
   "cell_type": "code",
   "execution_count": 11,
   "id": "98c1b50b-eab7-4bc4-9102-6c5f2cdae37e",
   "metadata": {
    "id": "98c1b50b-eab7-4bc4-9102-6c5f2cdae37e",
    "outputId": "3f75fe3f-0f2b-4369-8d3a-7a6a989d5651",
    "tags": []
   },
   "outputs": [
    {
     "data": {
      "text/plain": [
       "Current    63.6%\n",
       "Former     36.4%\n",
       "Name: current, dtype: object"
      ]
     },
     "execution_count": 11,
     "metadata": {},
     "output_type": "execute_result"
    }
   ],
   "source": [
    "# Create a filter that shows only rows where the rating was 4 or 5.\n",
    "\n",
    "high_ratings_filter = reviews_clean_df.overall_rating > 3\n",
    "\n",
    "# Compare Current and Former values as percentages.\n",
    "\n",
    "reviews_clean_df[high_ratings_filter].current.value_counts(normalize = True).mul(100).round(1).astype(str) + '%'"
   ]
  },
  {
   "cell_type": "code",
   "execution_count": 12,
   "id": "08da9d42-8af1-424a-9361-050f123be422",
   "metadata": {
    "id": "08da9d42-8af1-424a-9361-050f123be422",
    "outputId": "a36018da-f00d-4deb-a17e-8e5d34941e3e",
    "tags": []
   },
   "outputs": [
    {
     "data": {
      "text/plain": [
       "Former     55.2%\n",
       "Current    44.8%\n",
       "Name: current, dtype: object"
      ]
     },
     "execution_count": 12,
     "metadata": {},
     "output_type": "execute_result"
    }
   ],
   "source": [
    "# Create a filter that shows only rows where the rating was 1 or 2.\n",
    "\n",
    "low_ratings_filter = reviews_clean_df.overall_rating < 3\n",
    "\n",
    "# Compare Current and Former values as percentages.\n",
    "\n",
    "reviews_clean_df[low_ratings_filter].current.value_counts(normalize = True).mul(100).round(1).astype(str) + '%'"
   ]
  },
  {
   "cell_type": "code",
   "execution_count": 21,
   "id": "ce20b3db-b627-40a7-bb5a-0fda2754c111",
   "metadata": {
    "tags": []
   },
   "outputs": [
    {
     "data": {
      "image/png": "[encoded data removed]",
      "text/plain": [
       "<Figure size 600x600 with 1 Axes>"
      ]
     },
     "metadata": {},
     "output_type": "display_data"
    }
   ],
   "source": [
    "labels = ['Current', 'Former']\n",
    "\n",
    "high_values = reviews_clean_df[high_ratings_filter].current.value_counts(normalize = True).mul(100).round(1)\n",
    "x = high_values[0]\n",
    "y = high_values[1]\n",
    "\n",
    "sizes = [x, y]\n",
    "colors = ['#D3A27F', '#AC6730']\n",
    "plt.figure(figsize=(6,6))\n",
    "plt.pie(sizes, labels=labels, colors=colors, autopct='%1.1f%%', startangle=90)\n",
    "plt.title('Rating 4 or 5: Current vs Former Employees')\n",
    "plt.axis('equal')\n",
    "plt.show()"
   ]
  },
  {
   "cell_type": "code",
   "execution_count": 22,
   "id": "273a0dc5-17f3-4dd1-acb7-dcb96c96e8d8",
   "metadata": {
    "tags": []
   },
   "outputs": [
    {
     "data": {
      "image/png": "[encoded data removed]",
      "text/plain": [
       "<Figure size 600x600 with 1 Axes>"
      ]
     },
     "metadata": {},
     "output_type": "display_data"
    }
   ],
   "source": [
    "labels = ['Former', 'Current']\n",
    "\n",
    "low_values = reviews_clean_df[low_ratings_filter].current.value_counts(normalize = True).mul(100).round(1)\n",
    "x = low_values[0]\n",
    "y = low_values[1]\n",
    "\n",
    "sizes = [x, y]\n",
    "colors = ['#D3A27F', '#AC6730']\n",
    "plt.figure(figsize=(6,6))\n",
    "plt.pie(sizes, labels=labels, colors=colors, autopct='%1.1f%%', startangle=90)\n",
    "plt.title('Rating 4 or 5: Current vs Former Employees')\n",
    "plt.axis('equal')\n",
    "plt.show()"
   ]
  },
  {
   "cell_type": "markdown",
   "id": "8bf2998f-fd51-4d46-ae80-21286e078afe",
   "metadata": {},
   "source": [
    "#### The pie charts above show us the employee status distribution for high-rated reviews and low-rated reviews respectively. The results heavily suggest that employees that rate their firm more favorably are more likely to stay at the company, while employees who give a negative rating are more likely to have left. It can be assumed that current employees who have given a low review score are also more likely to become former employees."
   ]
  },
  {
   "cell_type": "markdown",
   "id": "b3f2b3b1-bd70-4408-a28a-4cb8a32f1a55",
   "metadata": {
    "id": "b3f2b3b1-bd70-4408-a28a-4cb8a32f1a55"
   },
   "source": [
    "### __b. Which companies have the highest average ratings? Which companies have the lowest average ratings? What metrics are predictors of a higher rating, and which predict a lower rating?__"
   ]
  },
  {
   "cell_type": "markdown",
   "id": "b2c6bc50-576c-4731-8153-a76522b72cec",
   "metadata": {},
   "source": [
    "#### In answering this question, we can group the values of all of the reviews for each firm, find the average values for our relevant metrics, and then sort each firm by descending overall rating."
   ]
  },
  {
   "cell_type": "code",
   "execution_count": null,
   "id": "c6048d55-1d5b-4861-a320-635cc0048f52",
   "metadata": {
    "id": "c6048d55-1d5b-4861-a320-635cc0048f52",
    "outputId": "fda2a19b-cf56-4fdf-9884-8a38c3e4b98f",
    "tags": []
   },
   "outputs": [
    {
     "data": {
      "text/html": [
       "<div>\n",
       "<style scoped>\n",
       "    .dataframe tbody tr th:only-of-type {\n",
       "        vertical-align: middle;\n",
       "    }\n",
       "\n",
       "    .dataframe tbody tr th {\n",
       "        vertical-align: top;\n",
       "    }\n",
       "\n",
       "    .dataframe thead th {\n",
       "        text-align: right;\n",
       "    }\n",
       "</style>\n",
       "<table border=\"1\" class=\"dataframe\">\n",
       "  <thead>\n",
       "    <tr style=\"text-align: right;\">\n",
       "      <th></th>\n",
       "      <th>overall_rating</th>\n",
       "      <th>work_life_balance</th>\n",
       "      <th>culture_values</th>\n",
       "      <th>diversity_inclusion</th>\n",
       "      <th>career_opp</th>\n",
       "      <th>comp_benefits</th>\n",
       "      <th>senior_mgmt</th>\n",
       "    </tr>\n",
       "    <tr>\n",
       "      <th>firm</th>\n",
       "      <th></th>\n",
       "      <th></th>\n",
       "      <th></th>\n",
       "      <th></th>\n",
       "      <th></th>\n",
       "      <th></th>\n",
       "      <th></th>\n",
       "    </tr>\n",
       "  </thead>\n",
       "  <tbody>\n",
       "    <tr>\n",
       "      <th>The-Survey-Association</th>\n",
       "      <td>5.000000</td>\n",
       "      <td>3.333333</td>\n",
       "      <td>4.666667</td>\n",
       "      <td>5.000000</td>\n",
       "      <td>4.666667</td>\n",
       "      <td>4.000000</td>\n",
       "      <td>3.666667</td>\n",
       "    </tr>\n",
       "    <tr>\n",
       "      <th>Time-Etc</th>\n",
       "      <td>4.785714</td>\n",
       "      <td>4.700000</td>\n",
       "      <td>4.775000</td>\n",
       "      <td>4.777778</td>\n",
       "      <td>4.658537</td>\n",
       "      <td>4.410256</td>\n",
       "      <td>4.789474</td>\n",
       "    </tr>\n",
       "    <tr>\n",
       "      <th>Northern-Gas-and-Power</th>\n",
       "      <td>4.719682</td>\n",
       "      <td>4.750000</td>\n",
       "      <td>4.708075</td>\n",
       "      <td>4.517241</td>\n",
       "      <td>4.688660</td>\n",
       "      <td>4.756198</td>\n",
       "      <td>4.683884</td>\n",
       "    </tr>\n",
       "    <tr>\n",
       "      <th>CarShop-UK</th>\n",
       "      <td>4.651163</td>\n",
       "      <td>4.127572</td>\n",
       "      <td>4.597510</td>\n",
       "      <td>4.363636</td>\n",
       "      <td>4.553719</td>\n",
       "      <td>4.508264</td>\n",
       "      <td>4.576763</td>\n",
       "    </tr>\n",
       "    <tr>\n",
       "      <th>Michelmores</th>\n",
       "      <td>4.610390</td>\n",
       "      <td>4.588235</td>\n",
       "      <td>4.632353</td>\n",
       "      <td>4.000000</td>\n",
       "      <td>4.382353</td>\n",
       "      <td>4.323529</td>\n",
       "      <td>4.313433</td>\n",
       "    </tr>\n",
       "    <tr>\n",
       "      <th>...</th>\n",
       "      <td>...</td>\n",
       "      <td>...</td>\n",
       "      <td>...</td>\n",
       "      <td>...</td>\n",
       "      <td>...</td>\n",
       "      <td>...</td>\n",
       "      <td>...</td>\n",
       "    </tr>\n",
       "    <tr>\n",
       "      <th>Diligenta</th>\n",
       "      <td>2.363636</td>\n",
       "      <td>2.847826</td>\n",
       "      <td>2.195652</td>\n",
       "      <td>2.759259</td>\n",
       "      <td>1.920290</td>\n",
       "      <td>1.942029</td>\n",
       "      <td>2.072464</td>\n",
       "    </tr>\n",
       "    <tr>\n",
       "      <th>Macdonald-Hotels-and-Resorts</th>\n",
       "      <td>2.330472</td>\n",
       "      <td>2.173709</td>\n",
       "      <td>2.188679</td>\n",
       "      <td>3.300000</td>\n",
       "      <td>2.391509</td>\n",
       "      <td>2.300469</td>\n",
       "      <td>2.080569</td>\n",
       "    </tr>\n",
       "    <tr>\n",
       "      <th>James-Hay-Partnership</th>\n",
       "      <td>2.311111</td>\n",
       "      <td>2.645570</td>\n",
       "      <td>2.287500</td>\n",
       "      <td>3.428571</td>\n",
       "      <td>2.125000</td>\n",
       "      <td>2.587500</td>\n",
       "      <td>2.000000</td>\n",
       "    </tr>\n",
       "    <tr>\n",
       "      <th>Creative-Support</th>\n",
       "      <td>2.257778</td>\n",
       "      <td>2.106599</td>\n",
       "      <td>2.472081</td>\n",
       "      <td>3.333333</td>\n",
       "      <td>2.296482</td>\n",
       "      <td>2.030612</td>\n",
       "      <td>2.139175</td>\n",
       "    </tr>\n",
       "    <tr>\n",
       "      <th>The-Range</th>\n",
       "      <td>2.200000</td>\n",
       "      <td>2.236842</td>\n",
       "      <td>1.946667</td>\n",
       "      <td>2.734513</td>\n",
       "      <td>2.097884</td>\n",
       "      <td>1.770667</td>\n",
       "      <td>1.954667</td>\n",
       "    </tr>\n",
       "  </tbody>\n",
       "</table>\n",
       "<p>428 rows × 7 columns</p>\n",
       "</div>"
      ],
      "text/plain": [
       "                              overall_rating  work_life_balance  \\\n",
       "firm                                                              \n",
       "The-Survey-Association              5.000000           3.333333   \n",
       "Time-Etc                            4.785714           4.700000   \n",
       "Northern-Gas-and-Power              4.719682           4.750000   \n",
       "CarShop-UK                          4.651163           4.127572   \n",
       "Michelmores                         4.610390           4.588235   \n",
       "...                                      ...                ...   \n",
       "Diligenta                           2.363636           2.847826   \n",
       "Macdonald-Hotels-and-Resorts        2.330472           2.173709   \n",
       "James-Hay-Partnership               2.311111           2.645570   \n",
       "Creative-Support                    2.257778           2.106599   \n",
       "The-Range                           2.200000           2.236842   \n",
       "\n",
       "                              culture_values  diversity_inclusion  career_opp  \\\n",
       "firm                                                                            \n",
       "The-Survey-Association              4.666667             5.000000    4.666667   \n",
       "Time-Etc                            4.775000             4.777778    4.658537   \n",
       "Northern-Gas-and-Power              4.708075             4.517241    4.688660   \n",
       "CarShop-UK                          4.597510             4.363636    4.553719   \n",
       "Michelmores                         4.632353             4.000000    4.382353   \n",
       "...                                      ...                  ...         ...   \n",
       "Diligenta                           2.195652             2.759259    1.920290   \n",
       "Macdonald-Hotels-and-Resorts        2.188679             3.300000    2.391509   \n",
       "James-Hay-Partnership               2.287500             3.428571    2.125000   \n",
       "Creative-Support                    2.472081             3.333333    2.296482   \n",
       "The-Range                           1.946667             2.734513    2.097884   \n",
       "\n",
       "                              comp_benefits  senior_mgmt  \n",
       "firm                                                      \n",
       "The-Survey-Association             4.000000     3.666667  \n",
       "Time-Etc                           4.410256     4.789474  \n",
       "Northern-Gas-and-Power             4.756198     4.683884  \n",
       "CarShop-UK                         4.508264     4.576763  \n",
       "Michelmores                        4.323529     4.313433  \n",
       "...                                     ...          ...  \n",
       "Diligenta                          1.942029     2.072464  \n",
       "Macdonald-Hotels-and-Resorts       2.300469     2.080569  \n",
       "James-Hay-Partnership              2.587500     2.000000  \n",
       "Creative-Support                   2.030612     2.139175  \n",
       "The-Range                          1.770667     1.954667  \n",
       "\n",
       "[428 rows x 7 columns]"
      ]
     },
     "execution_count": 8,
     "metadata": {},
     "output_type": "execute_result"
    }
   ],
   "source": [
    "no_nulls_df = reviews_clean_df.replace(0, np.nan)\n",
    "\n",
    "average_ratings = no_nulls_df.groupby('firm')[\n",
    "    ['overall_rating', 'work_life_balance', 'culture_values',\n",
    "     'diversity_inclusion', 'career_opp', 'comp_benefits', 'senior_mgmt']\n",
    "].mean(numeric_only=True).sort_values(by = 'overall_rating', ascending = False)\n",
    "average_ratings"
   ]
  },
  {
   "cell_type": "markdown",
   "id": "a9b06539-16c9-4a81-a408-424e864ac93d",
   "metadata": {},
   "source": [
    "#### We can see that the three highest rated firms on average are \"The Survey Association\", \"Time Etc\", and \"Northern Gas and Power\", while the lowest rated firms on average are \"The Range\", \"Creative Support\", and \"James Hay Partnership\". Next, we can find correlation values for each of our metrics and, with the help of a heat map, visualize how strong of a correlation each metric has to the overall rating, and to each other. "
   ]
  },
  {
   "cell_type": "code",
   "execution_count": null,
   "id": "63798155-7047-470f-868e-56d4b7979576",
   "metadata": {
    "id": "63798155-7047-470f-868e-56d4b7979576",
    "outputId": "d3d13df7-1e38-4b79-b735-0349c81cd3ad",
    "tags": []
   },
   "outputs": [
    {
     "data": {
      "text/plain": [
       "<Axes: >"
      ]
     },
     "execution_count": 10,
     "metadata": {},
     "output_type": "execute_result"
    },
    {
     "data": {
      "image/png": "[encoded data removed]",
      "text/plain": [
       "<Figure size 640x480 with 2 Axes>"
      ]
     },
     "metadata": {},
     "output_type": "display_data"
    }
   ],
   "source": [
    "# Find correlation values\n",
    "\n",
    "corr = average_ratings.corr()\n",
    "\n",
    "# Create heatmap of correlation values\n",
    "matrix = np.triu(corr)\n",
    "sns.heatmap(corr, annot=True, mask=matrix)"
   ]
  },
  {
   "cell_type": "markdown",
   "id": "c12deffe-384a-4a94-a587-17aee8484a70",
   "metadata": {},
   "source": [
    "#### The resulting heatmap shows that workplace culture, senior management, and career opportunity are the strongest indicators of a higher overall rating, with diversity and inclusion having the lowest impact overall."
   ]
  },
  {
   "cell_type": "markdown",
   "id": "0f7ec901-6132-47c9-865e-7d3d745d5aee",
   "metadata": {
    "id": "0f7ec901-6132-47c9-865e-7d3d745d5aee",
    "tags": []
   },
   "source": [
    "### __c. What are the most commonly listed pros? What are the most commonly listed cons?__"
   ]
  },
  {
   "cell_type": "markdown",
   "id": "addb7d59-ee9b-4ee5-8f65-51a715222d2f",
   "metadata": {},
   "source": [
    "#### The following sections of code rely on the PyTorch and Transformers libraries. If you would like to run the code and have not installed them, then run the following commands found below."
   ]
  },
  {
   "cell_type": "code",
   "execution_count": null,
   "id": "19567e58-4d4b-4385-8759-69a440b52b4f",
   "metadata": {},
   "outputs": [],
   "source": [
    "# pip install torch\n",
    "# pip install transformers"
   ]
  },
  {
   "cell_type": "markdown",
   "id": "b720fbbf-f504-4d50-8dd8-072b5523e36c",
   "metadata": {},
   "source": [
    "#### Since the pros and cons columns are textual columns submitted by users, they cannot be evaluted to find the pros and cons directly. In order to do this, we rely on the Bart-Large language model to evaluate the text and categorize it into different common pros and cons."
   ]
  },
  {
   "cell_type": "code",
   "execution_count": 3,
   "id": "d1e9b472-6291-4d70-9ab2-a8bfcd94b449",
   "metadata": {
    "id": "d1e9b472-6291-4d70-9ab2-a8bfcd94b449",
    "tags": []
   },
   "outputs": [],
   "source": [
    "from transformers import pipeline"
   ]
  },
  {
   "cell_type": "code",
   "execution_count": 4,
   "id": "761d0d02-1905-4544-aadb-c17d8a014720",
   "metadata": {
    "colab": {
     "base_uri": "https://localhost:8080/",
     "height": 390,
     "referenced_widgets": [
      "932d865e08174824b92bf395ee44a4ce",
      "26ff47ffb6cd4347b0615deca399588f",
      "870b99b0e86b4508a2cb863fd04fb5f9",
      "0b9f9b58d3c64b90b0a57ef05094fca8",
      "fdb1805b268547a2b8932bed0249a03a",
      "7ba008d733a24406bdd3a44008a59194",
      "c327df7a6f29490f80331307c0a94f9f",
      "196085b54090411eb2edfb8bd48e0895",
      "221b56dc97dc490ab2d93f68b87d771e",
      "bc6b171d7924416ca539a4af0e2322a6",
      "bea47971256045edab234afb251a6beb",
      "00e08c5e531e46e7893998c7affb3319",
      "1c57c472e6844450b915e5d46f42a287",
      "c973659fd04e4457bea1528b961d9e71",
      "65ebaec15ac14ee68066c8093a80436b",
      "ea56501bf1be46578736611b1e7b9576",
      "240be7266a0943b48c01627fe6d31734",
      "6b7c482a77984b20b7f61791d824b43c",
      "279b82fb91b54277b9ddb0cf25947f89",
      "de1cc44988b642ab948e6014af5f5259",
      "1a8be386acf844c685936680b5d58f9f",
      "7557007dcd8b4a5c9c9b9364b2d431ee",
      "53707841cee142e69a6ba51b5a7b1dab",
      "c08bec3ffd394036998b0e3487f6e7b7",
      "4d82e59d7bb645b1b7cb98a7d992d752",
      "ee88b764ae3a4d139b5d6d8c203dbc3f",
      "755d5de1bfbd4233b3e23db053a4d96d",
      "ebfe399b00274e6db6cd0a045410c30b",
      "37bbb33b0c8a4ed1a7a34949d5c1e2e0",
      "e3a6719838dd4751a65c7772145c26c9",
      "036fccc5785940c39a229e19b2bafcb0",
      "304cde1d4ac143cbbd5e037cdc5c512b",
      "845069c0f6a14757a44ca816943ea4f1",
      "5246ae74ed954a5f83bfb2dcc698fda5",
      "172be74341b4442d90f6bb078448fd8a",
      "f049628067d14b96b5cc891c36b102d2",
      "86e8c7721b924a148fe6a92fcdd1a2ed",
      "6ca0e71c597a4035bf02973e56c7db9d",
      "3d82d53e60564d25abe3ed113e9449b6",
      "5c7b3b5140b24ed78ab4a3719c591b5c",
      "76643f30d9e8409ea5c151b6b0c2c514",
      "f86f14cb29d74b53a3d5802f9d6cd325",
      "c96e4ffe4557425bb25381d4ea42a6f5",
      "f7541bc4bca14a0a8465c537d5d3fb09",
      "56a701c8aa2b4d5aa0bf7cc3dfd5245a",
      "a1970e06fcf9458e868ad73b0162f1df",
      "d6cd161360504ae8ba5e02389b765738",
      "0c45c03b901144ecbb47b472dd082013",
      "b720ca868a4142809496b6453ef19bdb",
      "2dd1be94b95143f98ce1d26b4482ff53",
      "3cd7907e7ab349ec8ce6d5ca0f1298aa",
      "7ed780bbadbf4e578699dd5bd4fd316e",
      "fff203a787bc48ea9618ffefcf337dc3",
      "ff305c3e582d44699ca8b85946b4582d",
      "bfb3b1ace98446ce996e9b8ecc08128a",
      "74d3305cc0a043e78449a5551c0585b1",
      "fb0620ed3d7e4db1b6a3b62711adf5d2",
      "ec91767261d44d40bb73eebe80463404",
      "7c2c9141ebe34064b86531d7ffea9527",
      "95a8144ca1394bc284761e5ba4d5c966",
      "770dc94d42b1493a96e7c59bcf9a6a79",
      "c54494b3bfd843db887b0e43462686df",
      "0543305a1bb74e8cb50de03c06c6f792",
      "d2c5b6e510044db1887ba60a8dabe012",
      "1c764e4367864525ab435bf24ed53a0f",
      "fab21b56ea5445bcac5d0a00e0396cec"
     ]
    },
    "id": "761d0d02-1905-4544-aadb-c17d8a014720",
    "outputId": "72db416e-ee4b-4808-9042-f1e5b7c93aee"
   },
   "outputs": [
    {
     "name": "stderr",
     "output_type": "stream",
     "text": [
      "/usr/local/lib/python3.11/dist-packages/huggingface_hub/utils/_auth.py:94: UserWarning: \n",
      "The secret `HF_TOKEN` does not exist in your Colab secrets.\n",
      "To authenticate with the Hugging Face Hub, create a token in your settings tab (https://huggingface.co/settings/tokens), set it as secret in your Google Colab and restart your session.\n",
      "You will be able to reuse this secret in all of your notebooks.\n",
      "Please note that authentication is recommended but still optional to access public models or datasets.\n",
      "  warnings.warn(\n"
     ]
    },
    {
     "data": {
      "application/vnd.jupyter.widget-view+json": {
       "model_id": "932d865e08174824b92bf395ee44a4ce",
       "version_major": 2,
       "version_minor": 0
      },
      "text/plain": [
       "config.json:   0%|          | 0.00/1.15k [00:00<?, ?B/s]"
      ]
     },
     "metadata": {},
     "output_type": "display_data"
    },
    {
     "name": "stderr",
     "output_type": "stream",
     "text": [
      "Xet Storage is enabled for this repo, but the 'hf_xet' package is not installed. Falling back to regular HTTP download. For better performance, install the package with: `pip install huggingface_hub[hf_xet]` or `pip install hf_xet`\n",
      "WARNING:huggingface_hub.file_download:Xet Storage is enabled for this repo, but the 'hf_xet' package is not installed. Falling back to regular HTTP download. For better performance, install the package with: `pip install huggingface_hub[hf_xet]` or `pip install hf_xet`\n"
     ]
    },
    {
     "data": {
      "application/vnd.jupyter.widget-view+json": {
       "model_id": "00e08c5e531e46e7893998c7affb3319",
       "version_major": 2,
       "version_minor": 0
      },
      "text/plain": [
       "model.safetensors:   0%|          | 0.00/1.63G [00:00<?, ?B/s]"
      ]
     },
     "metadata": {},
     "output_type": "display_data"
    },
    {
     "data": {
      "application/vnd.jupyter.widget-view+json": {
       "model_id": "53707841cee142e69a6ba51b5a7b1dab",
       "version_major": 2,
       "version_minor": 0
      },
      "text/plain": [
       "tokenizer_config.json:   0%|          | 0.00/26.0 [00:00<?, ?B/s]"
      ]
     },
     "metadata": {},
     "output_type": "display_data"
    },
    {
     "data": {
      "application/vnd.jupyter.widget-view+json": {
       "model_id": "5246ae74ed954a5f83bfb2dcc698fda5",
       "version_major": 2,
       "version_minor": 0
      },
      "text/plain": [
       "vocab.json:   0%|          | 0.00/899k [00:00<?, ?B/s]"
      ]
     },
     "metadata": {},
     "output_type": "display_data"
    },
    {
     "data": {
      "application/vnd.jupyter.widget-view+json": {
       "model_id": "56a701c8aa2b4d5aa0bf7cc3dfd5245a",
       "version_major": 2,
       "version_minor": 0
      },
      "text/plain": [
       "merges.txt:   0%|          | 0.00/456k [00:00<?, ?B/s]"
      ]
     },
     "metadata": {},
     "output_type": "display_data"
    },
    {
     "data": {
      "application/vnd.jupyter.widget-view+json": {
       "model_id": "74d3305cc0a043e78449a5551c0585b1",
       "version_major": 2,
       "version_minor": 0
      },
      "text/plain": [
       "tokenizer.json:   0%|          | 0.00/1.36M [00:00<?, ?B/s]"
      ]
     },
     "metadata": {},
     "output_type": "display_data"
    },
    {
     "name": "stderr",
     "output_type": "stream",
     "text": [
      "Device set to use cpu\n"
     ]
    }
   ],
   "source": [
    "# Initialize Bart-Large classifier model\n",
    "\n",
    "classifier = pipeline(\"zero-shot-classification\",\n",
    "                      model=\"facebook/bart-large-mnli\")"
   ]
  },
  {
   "cell_type": "markdown",
   "id": "8e2df2da-ad7d-465f-b7cc-e29006ef0c04",
   "metadata": {},
   "source": [
    "#### We can create a dictionary of typical Pros and Cons categories determined by viewing random samples of these column values during the earlier exploration phase. The classifier model will then attempt to determine which specific Pros and Cons are referenced in each review based on their meaning."
   ]
  },
  {
   "cell_type": "code",
   "execution_count": 47,
   "id": "gtgnn8eHyvyn",
   "metadata": {
    "id": "gtgnn8eHyvyn"
   },
   "outputs": [],
   "source": [
    "# Create a dictionary of common \"Pros\" categories to count their frequency.\n",
    "\n",
    "candidate_label_pros = {\n",
    "  \"Good Pay\" : 0,\n",
    "  \"Good Management\" : 0,\n",
    "  \"Good Work Life Balance\" : 0,\n",
    "  \"Good Work Environmment\" : 0,\n",
    "  \"Diverse Culture\" : 0,\n",
    "  \"Creativity Encouraged\" : 0,\n",
    "  \"Friendly Coworkers\" : 0,\n",
    "  \"Good Career Outcomes\" : 0,\n",
    "  \"No Positives\" : 0\n",
    "}\n",
    "\n",
    "# Pull a sample of 100 rows from the dataset for evaluation.\n",
    "\n",
    "sequence_to_classify = reviews_clean_df.pros.sample(100)"
   ]
  },
  {
   "cell_type": "code",
   "execution_count": 48,
   "id": "MZlo0mE6hkhe",
   "metadata": {
    "colab": {
     "base_uri": "https://localhost:8080/"
    },
    "id": "MZlo0mE6hkhe",
    "outputId": "2f469a0e-6cf7-43e1-ed2e-bc9148f082fc"
   },
   "outputs": [
    {
     "name": "stdout",
     "output_type": "stream",
     "text": [
      "{'Good Pay': 44, 'Good Management': 86, 'Good Work Life Balance': 65, 'Good Work Environmment': 80, 'Diverse Culture': 62, 'Creativity Encouraged': 44, 'Friendly Coworkers': 47, 'Good Career Outcomes': 68, 'No Positives': 2}\n"
     ]
    }
   ],
   "source": [
    "# Determine classification values for each \"Pros\" text in our sample list.\n",
    "\n",
    "for i in range(len(sequence_to_classify)):\n",
    "    candidate_labels = list(candidate_label_pros.keys())\n",
    "    result = classifier(sequence_to_classify.iloc[i], candidate_labels, multi_label = True)\n",
    "\n",
    "# Increase the value of a category if the classification value is higher than 0.5.\n",
    "\n",
    "    for label, score in zip(result['labels'], result['scores']):\n",
    "        if score >= 0.5:\n",
    "            candidate_label_pros[label] += 1\n",
    "\n",
    "print(candidate_label_pros)"
   ]
  },
  {
   "cell_type": "code",
   "execution_count": 49,
   "id": "ZDIFUVd9ytFa",
   "metadata": {
    "id": "ZDIFUVd9ytFa"
   },
   "outputs": [],
   "source": [
    "# Create a dictionary of common \"Cons\" categories to count their frequency.\n",
    "\n",
    "candidate_label_cons = {\n",
    "  \"Bad Pay\" : 0,\n",
    "  \"Bad Management\" : 0,\n",
    "  \"Bad Work Life Balance\" : 0,\n",
    "  \"Bad Work Environmment\" : 0,\n",
    "  \"Discrimination\" : 0,\n",
    "  \"Too Corporate\" : 0,\n",
    "  \"Bad Benefits\" : 0,\n",
    "  \"Poor Career Outcomes\" : 0,\n",
    "  \"No Negatives\" : 0\n",
    "}\n",
    "\n",
    "# Pull a sample of 100 rows from the dataset for evaluation.\n",
    "\n",
    "sequence_to_classify = reviews_clean_df.cons.sample(100)"
   ]
  },
  {
   "cell_type": "code",
   "execution_count": 50,
   "id": "lYU8KMvpywvW",
   "metadata": {
    "colab": {
     "base_uri": "https://localhost:8080/"
    },
    "id": "lYU8KMvpywvW",
    "outputId": "369a4589-9176-443c-e46f-6291707f5acc"
   },
   "outputs": [
    {
     "name": "stdout",
     "output_type": "stream",
     "text": [
      "{'Bad Pay': 23, 'Bad Management': 50, 'Bad Work Life Balance': 41, 'Bad Work Environmment': 55, 'Discrimination': 12, 'Too Corporate': 21, 'Bad Benefits': 22, 'Poor Career Outcomes': 32, 'No Negatives': 11}\n"
     ]
    }
   ],
   "source": [
    "# Determine classification values for each \"Cons\" text in our sample list.\n",
    "\n",
    "for i in range(len(sequence_to_classify)):\n",
    "    candidate_labels = list(candidate_label_cons.keys())\n",
    "    result = classifier(sequence_to_classify.iloc[i], candidate_labels, multi_label = True)\n",
    "\n",
    "# Increase the value of a category if the classification value is higher than 0.5.\n",
    "\n",
    "    for label, score in zip(result['labels'], result['scores']):\n",
    "        if score >= 0.5:\n",
    "            candidate_label_cons[label] += 1\n",
    "\n",
    "print(candidate_label_cons)"
   ]
  },
  {
   "cell_type": "code",
   "execution_count": 75,
   "id": "jYDNIiJ9JJXD",
   "metadata": {
    "colab": {
     "base_uri": "https://localhost:8080/",
     "height": 487
    },
    "id": "jYDNIiJ9JJXD",
    "outputId": "9fdf2e5f-8e64-4ea8-affe-3e92238703dc"
   },
   "outputs": [
    {
     "data": {
      "image/png": "[encoded data removed]",
      "text/plain": [
       "<Figure size 640x480 with 1 Axes>"
      ]
     },
     "metadata": {},
     "output_type": "display_data"
    }
   ],
   "source": [
    "sorted_pros = dict(sorted(candidate_label_pros.items(), key=lambda x: x[1], reverse=True))\n",
    "\n",
    "x = list(sorted_pros)\n",
    "y = list(sorted_pros.values())\n",
    "bars = plt.bar(x, y, facecolor = '#d2a27f', edgecolor = '#ac6730', linewidth = 3)\n",
    "\n",
    "plt.bar_label(bars)\n",
    "plt.title('')\n",
    "\n",
    "plt.xticks(rotation=45, ha='right')\n",
    "plt.tight_layout()\n",
    "plt.show()"
   ]
  },
  {
   "cell_type": "code",
   "execution_count": 81,
   "id": "9kahjKvSJJB-",
   "metadata": {
    "colab": {
     "base_uri": "https://localhost:8080/",
     "height": 487
    },
    "id": "9kahjKvSJJB-",
    "outputId": "b956acc1-6dd3-4650-ca9e-cf20704cef1c"
   },
   "outputs": [
    {
     "data": {
      "image/png": "[encoded data removed]",
      "text/plain": [
       "<Figure size 640x480 with 1 Axes>"
      ]
     },
     "metadata": {},
     "output_type": "display_data"
    }
   ],
   "source": [
    "sorted_cons = dict(sorted(candidate_label_cons.items(), key=lambda x: x[1], reverse=True))\n",
    "\n",
    "x = list(sorted_cons)\n",
    "y = list(sorted_cons.values())\n",
    "bars = plt.bar(x, y, facecolor = '#f05e42', edgecolor = '#d11f4c', linewidth = 3)\n",
    "\n",
    "plt.bar_label(bars)\n",
    "plt.title('')\n",
    "\n",
    "plt.xticks(rotation=45, ha='right')\n",
    "plt.tight_layout()\n",
    "plt.show()"
   ]
  },
  {
   "cell_type": "markdown",
   "id": "b100444a-8730-4c42-80f3-5f91cb077928",
   "metadata": {},
   "source": [
    "#### The resulting bar charts display the most frequently discussed Pros as well as the most frequently discussed Cons in our sample slice of the dataset. We can see from our classification results that in both the Pros column and the Cons column, work environment, management, work life balance, and career outcomes are the most likely attributes to be listed, whether positively or negatively."
   ]
  },
  {
   "cell_type": "markdown",
   "id": "756d44a0-3a95-4df4-a81a-238698fb041e",
   "metadata": {
    "id": "f788f7ad-772e-4784-b57a-aa5909d21f36"
   },
   "source": [
    "## 5. Conclusion"
   ]
  },
  {
   "cell_type": "markdown",
   "id": "b3dad854-1a17-4cdb-bbfc-9dc07ba26cca",
   "metadata": {},
   "source": [
    "#### The Exploratory Data Analysis (EDA) consisted of successful cleaning of most of the important values found in the dataset, including null handling, removing duplicate rows, as well as several columns being reformatted to become more usable. The Summary and Analysis stages yielded many valuable insights into the kind of information that can be gleamed from this dataset, as well as determining the answer to several key questions regarding the data. It was determined through exploration of the data that the overall rating of each review had a direct impact on the likelihood of an employee staying or leaving a firm. Furthermore, through analysis of the more specific numeric ratings provided by employees on their reviews, the degree of impact that several key qualities of a workplace had on the overall rating was inferred. Finally, the textual responses in the Pros and Cons columns were analyzed and summarized into discrete categories, through which we could determine what aspects of working at a firm an employee was most likely to consider in their review. The dataset proved to be feature rich with high quality data, and much further analysis can be conducted on the reformatted data, especially with regards to columns that were not covered in the scope of this report, such as the location of the firm and the recommendation values."
   ]
  }
 ],
 "metadata": {
  "colab": {
   "provenance": [],
   "toc_visible": true
  },
  "kernelspec": {
   "display_name": "Python 3 (ipykernel)",
   "language": "python",
   "name": "python3"
  },
  "language_info": {
   "codemirror_mode": {
    "name": "ipython",
    "version": 3
   },
   "file_extension": ".py",
   "mimetype": "text/x-python",
   "name": "python",
   "nbconvert_exporter": "python",
   "pygments_lexer": "ipython3",
   "version": "3.11.4"
  },
  "widgets": {
   "application/vnd.jupyter.widget-state+json": {
    "00e08c5e531e46e7893998c7affb3319": {
     "model_module": "@jupyter-widgets/controls",
     "model_module_version": "1.5.0",
     "model_name": "HBoxModel",
     "state": {
      "_dom_classes": [],
      "_model_module": "@jupyter-widgets/controls",
      "_model_module_version": "1.5.0",
      "_model_name": "HBoxModel",
      "_view_count": null,
      "_view_module": "@jupyter-widgets/controls",
      "_view_module_version": "1.5.0",
      "_view_name": "HBoxView",
      "box_style": "",
      "children": [
       "IPY_MODEL_1c57c472e6844450b915e5d46f42a287",
       "IPY_MODEL_c973659fd04e4457bea1528b961d9e71",
       "IPY_MODEL_65ebaec15ac14ee68066c8093a80436b"
      ],
      "layout": "IPY_MODEL_ea56501bf1be46578736611b1e7b9576"
     }
    },
    "036fccc5785940c39a229e19b2bafcb0": {
     "model_module": "@jupyter-widgets/controls",
     "model_module_version": "1.5.0",
     "model_name": "ProgressStyleModel",
     "state": {
      "_model_module": "@jupyter-widgets/controls",
      "_model_module_version": "1.5.0",
      "_model_name": "ProgressStyleModel",
      "_view_count": null,
      "_view_module": "@jupyter-widgets/base",
      "_view_module_version": "1.2.0",
      "_view_name": "StyleView",
      "bar_color": null,
      "description_width": ""
     }
    },
    "0543305a1bb74e8cb50de03c06c6f792": {
     "model_module": "@jupyter-widgets/base",
     "model_module_version": "1.2.0",
     "model_name": "LayoutModel",
     "state": {
      "_model_module": "@jupyter-widgets/base",
      "_model_module_version": "1.2.0",
      "_model_name": "LayoutModel",
      "_view_count": null,
      "_view_module": "@jupyter-widgets/base",
      "_view_module_version": "1.2.0",
      "_view_name": "LayoutView",
      "align_content": null,
      "align_items": null,
      "align_self": null,
      "border": null,
      "bottom": null,
      "display": null,
      "flex": null,
      "flex_flow": null,
      "grid_area": null,
      "grid_auto_columns": null,
      "grid_auto_flow": null,
      "grid_auto_rows": null,
      "grid_column": null,
      "grid_gap": null,
      "grid_row": null,
      "grid_template_areas": null,
      "grid_template_columns": null,
      "grid_template_rows": null,
      "height": null,
      "justify_content": null,
      "justify_items": null,
      "left": null,
      "margin": null,
      "max_height": null,
      "max_width": null,
      "min_height": null,
      "min_width": null,
      "object_fit": null,
      "object_position": null,
      "order": null,
      "overflow": null,
      "overflow_x": null,
      "overflow_y": null,
      "padding": null,
      "right": null,
      "top": null,
      "visibility": null,
      "width": null
     }
    },
    "0b9f9b58d3c64b90b0a57ef05094fca8": {
     "model_module": "@jupyter-widgets/controls",
     "model_module_version": "1.5.0",
     "model_name": "HTMLModel",
     "state": {
      "_dom_classes": [],
      "_model_module": "@jupyter-widgets/controls",
      "_model_module_version": "1.5.0",
      "_model_name": "HTMLModel",
      "_view_count": null,
      "_view_module": "@jupyter-widgets/controls",
      "_view_module_version": "1.5.0",
      "_view_name": "HTMLView",
      "description": "",
      "description_tooltip": null,
      "layout": "IPY_MODEL_bc6b171d7924416ca539a4af0e2322a6",
      "placeholder": "​",
      "style": "IPY_MODEL_bea47971256045edab234afb251a6beb",
      "value": " 1.15k/1.15k [00:00&lt;00:00, 45.1kB/s]"
     }
    },
    "0c45c03b901144ecbb47b472dd082013": {
     "model_module": "@jupyter-widgets/controls",
     "model_module_version": "1.5.0",
     "model_name": "HTMLModel",
     "state": {
      "_dom_classes": [],
      "_model_module": "@jupyter-widgets/controls",
      "_model_module_version": "1.5.0",
      "_model_name": "HTMLModel",
      "_view_count": null,
      "_view_module": "@jupyter-widgets/controls",
      "_view_module_version": "1.5.0",
      "_view_name": "HTMLView",
      "description": "",
      "description_tooltip": null,
      "layout": "IPY_MODEL_ff305c3e582d44699ca8b85946b4582d",
      "placeholder": "​",
      "style": "IPY_MODEL_bfb3b1ace98446ce996e9b8ecc08128a",
      "value": " 456k/456k [00:00&lt;00:00, 25.4MB/s]"
     }
    },
    "172be74341b4442d90f6bb078448fd8a": {
     "model_module": "@jupyter-widgets/controls",
     "model_module_version": "1.5.0",
     "model_name": "HTMLModel",
     "state": {
      "_dom_classes": [],
      "_model_module": "@jupyter-widgets/controls",
      "_model_module_version": "1.5.0",
      "_model_name": "HTMLModel",
      "_view_count": null,
      "_view_module": "@jupyter-widgets/controls",
      "_view_module_version": "1.5.0",
      "_view_name": "HTMLView",
      "description": "",
      "description_tooltip": null,
      "layout": "IPY_MODEL_3d82d53e60564d25abe3ed113e9449b6",
      "placeholder": "​",
      "style": "IPY_MODEL_5c7b3b5140b24ed78ab4a3719c591b5c",
      "value": "vocab.json: 100%"
     }
    },
    "196085b54090411eb2edfb8bd48e0895": {
     "model_module": "@jupyter-widgets/base",
     "model_module_version": "1.2.0",
     "model_name": "LayoutModel",
     "state": {
      "_model_module": "@jupyter-widgets/base",
      "_model_module_version": "1.2.0",
      "_model_name": "LayoutModel",
      "_view_count": null,
      "_view_module": "@jupyter-widgets/base",
      "_view_module_version": "1.2.0",
      "_view_name": "LayoutView",
      "align_content": null,
      "align_items": null,
      "align_self": null,
      "border": null,
      "bottom": null,
      "display": null,
      "flex": null,
      "flex_flow": null,
      "grid_area": null,
      "grid_auto_columns": null,
      "grid_auto_flow": null,
      "grid_auto_rows": null,
      "grid_column": null,
      "grid_gap": null,
      "grid_row": null,
      "grid_template_areas": null,
      "grid_template_columns": null,
      "grid_template_rows": null,
      "height": null,
      "justify_content": null,
      "justify_items": null,
      "left": null,
      "margin": null,
      "max_height": null,
      "max_width": null,
      "min_height": null,
      "min_width": null,
      "object_fit": null,
      "object_position": null,
      "order": null,
      "overflow": null,
      "overflow_x": null,
      "overflow_y": null,
      "padding": null,
      "right": null,
      "top": null,
      "visibility": null,
      "width": null
     }
    },
    "1a8be386acf844c685936680b5d58f9f": {
     "model_module": "@jupyter-widgets/base",
     "model_module_version": "1.2.0",
     "model_name": "LayoutModel",
     "state": {
      "_model_module": "@jupyter-widgets/base",
      "_model_module_version": "1.2.0",
      "_model_name": "LayoutModel",
      "_view_count": null,
      "_view_module": "@jupyter-widgets/base",
      "_view_module_version": "1.2.0",
      "_view_name": "LayoutView",
      "align_content": null,
      "align_items": null,
      "align_self": null,
      "border": null,
      "bottom": null,
      "display": null,
      "flex": null,
      "flex_flow": null,
      "grid_area": null,
      "grid_auto_columns": null,
      "grid_auto_flow": null,
      "grid_auto_rows": null,
      "grid_column": null,
      "grid_gap": null,
      "grid_row": null,
      "grid_template_areas": null,
      "grid_template_columns": null,
      "grid_template_rows": null,
      "height": null,
      "justify_content": null,
      "justify_items": null,
      "left": null,
      "margin": null,
      "max_height": null,
      "max_width": null,
      "min_height": null,
      "min_width": null,
      "object_fit": null,
      "object_position": null,
      "order": null,
      "overflow": null,
      "overflow_x": null,
      "overflow_y": null,
      "padding": null,
      "right": null,
      "top": null,
      "visibility": null,
      "width": null
     }
    },
    "1c57c472e6844450b915e5d46f42a287": {
     "model_module": "@jupyter-widgets/controls",
     "model_module_version": "1.5.0",
     "model_name": "HTMLModel",
     "state": {
      "_dom_classes": [],
      "_model_module": "@jupyter-widgets/controls",
      "_model_module_version": "1.5.0",
      "_model_name": "HTMLModel",
      "_view_count": null,
      "_view_module": "@jupyter-widgets/controls",
      "_view_module_version": "1.5.0",
      "_view_name": "HTMLView",
      "description": "",
      "description_tooltip": null,
      "layout": "IPY_MODEL_240be7266a0943b48c01627fe6d31734",
      "placeholder": "​",
      "style": "IPY_MODEL_6b7c482a77984b20b7f61791d824b43c",
      "value": "model.safetensors: 100%"
     }
    },
    "1c764e4367864525ab435bf24ed53a0f": {
     "model_module": "@jupyter-widgets/base",
     "model_module_version": "1.2.0",
     "model_name": "LayoutModel",
     "state": {
      "_model_module": "@jupyter-widgets/base",
      "_model_module_version": "1.2.0",
      "_model_name": "LayoutModel",
      "_view_count": null,
      "_view_module": "@jupyter-widgets/base",
      "_view_module_version": "1.2.0",
      "_view_name": "LayoutView",
      "align_content": null,
      "align_items": null,
      "align_self": null,
      "border": null,
      "bottom": null,
      "display": null,
      "flex": null,
      "flex_flow": null,
      "grid_area": null,
      "grid_auto_columns": null,
      "grid_auto_flow": null,
      "grid_auto_rows": null,
      "grid_column": null,
      "grid_gap": null,
      "grid_row": null,
      "grid_template_areas": null,
      "grid_template_columns": null,
      "grid_template_rows": null,
      "height": null,
      "justify_content": null,
      "justify_items": null,
      "left": null,
      "margin": null,
      "max_height": null,
      "max_width": null,
      "min_height": null,
      "min_width": null,
      "object_fit": null,
      "object_position": null,
      "order": null,
      "overflow": null,
      "overflow_x": null,
      "overflow_y": null,
      "padding": null,
      "right": null,
      "top": null,
      "visibility": null,
      "width": null
     }
    },
    "221b56dc97dc490ab2d93f68b87d771e": {
     "model_module": "@jupyter-widgets/controls",
     "model_module_version": "1.5.0",
     "model_name": "ProgressStyleModel",
     "state": {
      "_model_module": "@jupyter-widgets/controls",
      "_model_module_version": "1.5.0",
      "_model_name": "ProgressStyleModel",
      "_view_count": null,
      "_view_module": "@jupyter-widgets/base",
      "_view_module_version": "1.2.0",
      "_view_name": "StyleView",
      "bar_color": null,
      "description_width": ""
     }
    },
    "240be7266a0943b48c01627fe6d31734": {
     "model_module": "@jupyter-widgets/base",
     "model_module_version": "1.2.0",
     "model_name": "LayoutModel",
     "state": {
      "_model_module": "@jupyter-widgets/base",
      "_model_module_version": "1.2.0",
      "_model_name": "LayoutModel",
      "_view_count": null,
      "_view_module": "@jupyter-widgets/base",
      "_view_module_version": "1.2.0",
      "_view_name": "LayoutView",
      "align_content": null,
      "align_items": null,
      "align_self": null,
      "border": null,
      "bottom": null,
      "display": null,
      "flex": null,
      "flex_flow": null,
      "grid_area": null,
      "grid_auto_columns": null,
      "grid_auto_flow": null,
      "grid_auto_rows": null,
      "grid_column": null,
      "grid_gap": null,
      "grid_row": null,
      "grid_template_areas": null,
      "grid_template_columns": null,
      "grid_template_rows": null,
      "height": null,
      "justify_content": null,
      "justify_items": null,
      "left": null,
      "margin": null,
      "max_height": null,
      "max_width": null,
      "min_height": null,
      "min_width": null,
      "object_fit": null,
      "object_position": null,
      "order": null,
      "overflow": null,
      "overflow_x": null,
      "overflow_y": null,
      "padding": null,
      "right": null,
      "top": null,
      "visibility": null,
      "width": null
     }
    },
    "26ff47ffb6cd4347b0615deca399588f": {
     "model_module": "@jupyter-widgets/controls",
     "model_module_version": "1.5.0",
     "model_name": "HTMLModel",
     "state": {
      "_dom_classes": [],
      "_model_module": "@jupyter-widgets/controls",
      "_model_module_version": "1.5.0",
      "_model_name": "HTMLModel",
      "_view_count": null,
      "_view_module": "@jupyter-widgets/controls",
      "_view_module_version": "1.5.0",
      "_view_name": "HTMLView",
      "description": "",
      "description_tooltip": null,
      "layout": "IPY_MODEL_7ba008d733a24406bdd3a44008a59194",
      "placeholder": "​",
      "style": "IPY_MODEL_c327df7a6f29490f80331307c0a94f9f",
      "value": "config.json: 100%"
     }
    },
    "279b82fb91b54277b9ddb0cf25947f89": {
     "model_module": "@jupyter-widgets/base",
     "model_module_version": "1.2.0",
     "model_name": "LayoutModel",
     "state": {
      "_model_module": "@jupyter-widgets/base",
      "_model_module_version": "1.2.0",
      "_model_name": "LayoutModel",
      "_view_count": null,
      "_view_module": "@jupyter-widgets/base",
      "_view_module_version": "1.2.0",
      "_view_name": "LayoutView",
      "align_content": null,
      "align_items": null,
      "align_self": null,
      "border": null,
      "bottom": null,
      "display": null,
      "flex": null,
      "flex_flow": null,
      "grid_area": null,
      "grid_auto_columns": null,
      "grid_auto_flow": null,
      "grid_auto_rows": null,
      "grid_column": null,
      "grid_gap": null,
      "grid_row": null,
      "grid_template_areas": null,
      "grid_template_columns": null,
      "grid_template_rows": null,
      "height": null,
      "justify_content": null,
      "justify_items": null,
      "left": null,
      "margin": null,
      "max_height": null,
      "max_width": null,
      "min_height": null,
      "min_width": null,
      "object_fit": null,
      "object_position": null,
      "order": null,
      "overflow": null,
      "overflow_x": null,
      "overflow_y": null,
      "padding": null,
      "right": null,
      "top": null,
      "visibility": null,
      "width": null
     }
    },
    "2dd1be94b95143f98ce1d26b4482ff53": {
     "model_module": "@jupyter-widgets/base",
     "model_module_version": "1.2.0",
     "model_name": "LayoutModel",
     "state": {
      "_model_module": "@jupyter-widgets/base",
      "_model_module_version": "1.2.0",
      "_model_name": "LayoutModel",
      "_view_count": null,
      "_view_module": "@jupyter-widgets/base",
      "_view_module_version": "1.2.0",
      "_view_name": "LayoutView",
      "align_content": null,
      "align_items": null,
      "align_self": null,
      "border": null,
      "bottom": null,
      "display": null,
      "flex": null,
      "flex_flow": null,
      "grid_area": null,
      "grid_auto_columns": null,
      "grid_auto_flow": null,
      "grid_auto_rows": null,
      "grid_column": null,
      "grid_gap": null,
      "grid_row": null,
      "grid_template_areas": null,
      "grid_template_columns": null,
      "grid_template_rows": null,
      "height": null,
      "justify_content": null,
      "justify_items": null,
      "left": null,
      "margin": null,
      "max_height": null,
      "max_width": null,
      "min_height": null,
      "min_width": null,
      "object_fit": null,
      "object_position": null,
      "order": null,
      "overflow": null,
      "overflow_x": null,
      "overflow_y": null,
      "padding": null,
      "right": null,
      "top": null,
      "visibility": null,
      "width": null
     }
    },
    "304cde1d4ac143cbbd5e037cdc5c512b": {
     "model_module": "@jupyter-widgets/base",
     "model_module_version": "1.2.0",
     "model_name": "LayoutModel",
     "state": {
      "_model_module": "@jupyter-widgets/base",
      "_model_module_version": "1.2.0",
      "_model_name": "LayoutModel",
      "_view_count": null,
      "_view_module": "@jupyter-widgets/base",
      "_view_module_version": "1.2.0",
      "_view_name": "LayoutView",
      "align_content": null,
      "align_items": null,
      "align_self": null,
      "border": null,
      "bottom": null,
      "display": null,
      "flex": null,
      "flex_flow": null,
      "grid_area": null,
      "grid_auto_columns": null,
      "grid_auto_flow": null,
      "grid_auto_rows": null,
      "grid_column": null,
      "grid_gap": null,
      "grid_row": null,
      "grid_template_areas": null,
      "grid_template_columns": null,
      "grid_template_rows": null,
      "height": null,
      "justify_content": null,
      "justify_items": null,
      "left": null,
      "margin": null,
      "max_height": null,
      "max_width": null,
      "min_height": null,
      "min_width": null,
      "object_fit": null,
      "object_position": null,
      "order": null,
      "overflow": null,
      "overflow_x": null,
      "overflow_y": null,
      "padding": null,
      "right": null,
      "top": null,
      "visibility": null,
      "width": null
     }
    },
    "37bbb33b0c8a4ed1a7a34949d5c1e2e0": {
     "model_module": "@jupyter-widgets/controls",
     "model_module_version": "1.5.0",
     "model_name": "DescriptionStyleModel",
     "state": {
      "_model_module": "@jupyter-widgets/controls",
      "_model_module_version": "1.5.0",
      "_model_name": "DescriptionStyleModel",
      "_view_count": null,
      "_view_module": "@jupyter-widgets/base",
      "_view_module_version": "1.2.0",
      "_view_name": "StyleView",
      "description_width": ""
     }
    },
    "3cd7907e7ab349ec8ce6d5ca0f1298aa": {
     "model_module": "@jupyter-widgets/controls",
     "model_module_version": "1.5.0",
     "model_name": "DescriptionStyleModel",
     "state": {
      "_model_module": "@jupyter-widgets/controls",
      "_model_module_version": "1.5.0",
      "_model_name": "DescriptionStyleModel",
      "_view_count": null,
      "_view_module": "@jupyter-widgets/base",
      "_view_module_version": "1.2.0",
      "_view_name": "StyleView",
      "description_width": ""
     }
    },
    "3d82d53e60564d25abe3ed113e9449b6": {
     "model_module": "@jupyter-widgets/base",
     "model_module_version": "1.2.0",
     "model_name": "LayoutModel",
     "state": {
      "_model_module": "@jupyter-widgets/base",
      "_model_module_version": "1.2.0",
      "_model_name": "LayoutModel",
      "_view_count": null,
      "_view_module": "@jupyter-widgets/base",
      "_view_module_version": "1.2.0",
      "_view_name": "LayoutView",
      "align_content": null,
      "align_items": null,
      "align_self": null,
      "border": null,
      "bottom": null,
      "display": null,
      "flex": null,
      "flex_flow": null,
      "grid_area": null,
      "grid_auto_columns": null,
      "grid_auto_flow": null,
      "grid_auto_rows": null,
      "grid_column": null,
      "grid_gap": null,
      "grid_row": null,
      "grid_template_areas": null,
      "grid_template_columns": null,
      "grid_template_rows": null,
      "height": null,
      "justify_content": null,
      "justify_items": null,
      "left": null,
      "margin": null,
      "max_height": null,
      "max_width": null,
      "min_height": null,
      "min_width": null,
      "object_fit": null,
      "object_position": null,
      "order": null,
      "overflow": null,
      "overflow_x": null,
      "overflow_y": null,
      "padding": null,
      "right": null,
      "top": null,
      "visibility": null,
      "width": null
     }
    },
    "4d82e59d7bb645b1b7cb98a7d992d752": {
     "model_module": "@jupyter-widgets/controls",
     "model_module_version": "1.5.0",
     "model_name": "FloatProgressModel",
     "state": {
      "_dom_classes": [],
      "_model_module": "@jupyter-widgets/controls",
      "_model_module_version": "1.5.0",
      "_model_name": "FloatProgressModel",
      "_view_count": null,
      "_view_module": "@jupyter-widgets/controls",
      "_view_module_version": "1.5.0",
      "_view_name": "ProgressView",
      "bar_style": "success",
      "description": "",
      "description_tooltip": null,
      "layout": "IPY_MODEL_e3a6719838dd4751a65c7772145c26c9",
      "max": 26,
      "min": 0,
      "orientation": "horizontal",
      "style": "IPY_MODEL_036fccc5785940c39a229e19b2bafcb0",
      "value": 26
     }
    },
    "5246ae74ed954a5f83bfb2dcc698fda5": {
     "model_module": "@jupyter-widgets/controls",
     "model_module_version": "1.5.0",
     "model_name": "HBoxModel",
     "state": {
      "_dom_classes": [],
      "_model_module": "@jupyter-widgets/controls",
      "_model_module_version": "1.5.0",
      "_model_name": "HBoxModel",
      "_view_count": null,
      "_view_module": "@jupyter-widgets/controls",
      "_view_module_version": "1.5.0",
      "_view_name": "HBoxView",
      "box_style": "",
      "children": [
       "IPY_MODEL_172be74341b4442d90f6bb078448fd8a",
       "IPY_MODEL_f049628067d14b96b5cc891c36b102d2",
       "IPY_MODEL_86e8c7721b924a148fe6a92fcdd1a2ed"
      ],
      "layout": "IPY_MODEL_6ca0e71c597a4035bf02973e56c7db9d"
     }
    },
    "53707841cee142e69a6ba51b5a7b1dab": {
     "model_module": "@jupyter-widgets/controls",
     "model_module_version": "1.5.0",
     "model_name": "HBoxModel",
     "state": {
      "_dom_classes": [],
      "_model_module": "@jupyter-widgets/controls",
      "_model_module_version": "1.5.0",
      "_model_name": "HBoxModel",
      "_view_count": null,
      "_view_module": "@jupyter-widgets/controls",
      "_view_module_version": "1.5.0",
      "_view_name": "HBoxView",
      "box_style": "",
      "children": [
       "IPY_MODEL_c08bec3ffd394036998b0e3487f6e7b7",
       "IPY_MODEL_4d82e59d7bb645b1b7cb98a7d992d752",
       "IPY_MODEL_ee88b764ae3a4d139b5d6d8c203dbc3f"
      ],
      "layout": "IPY_MODEL_755d5de1bfbd4233b3e23db053a4d96d"
     }
    },
    "56a701c8aa2b4d5aa0bf7cc3dfd5245a": {
     "model_module": "@jupyter-widgets/controls",
     "model_module_version": "1.5.0",
     "model_name": "HBoxModel",
     "state": {
      "_dom_classes": [],
      "_model_module": "@jupyter-widgets/controls",
      "_model_module_version": "1.5.0",
      "_model_name": "HBoxModel",
      "_view_count": null,
      "_view_module": "@jupyter-widgets/controls",
      "_view_module_version": "1.5.0",
      "_view_name": "HBoxView",
      "box_style": "",
      "children": [
       "IPY_MODEL_a1970e06fcf9458e868ad73b0162f1df",
       "IPY_MODEL_d6cd161360504ae8ba5e02389b765738",
       "IPY_MODEL_0c45c03b901144ecbb47b472dd082013"
      ],
      "layout": "IPY_MODEL_b720ca868a4142809496b6453ef19bdb"
     }
    },
    "5c7b3b5140b24ed78ab4a3719c591b5c": {
     "model_module": "@jupyter-widgets/controls",
     "model_module_version": "1.5.0",
     "model_name": "DescriptionStyleModel",
     "state": {
      "_model_module": "@jupyter-widgets/controls",
      "_model_module_version": "1.5.0",
      "_model_name": "DescriptionStyleModel",
      "_view_count": null,
      "_view_module": "@jupyter-widgets/base",
      "_view_module_version": "1.2.0",
      "_view_name": "StyleView",
      "description_width": ""
     }
    },
    "65ebaec15ac14ee68066c8093a80436b": {
     "model_module": "@jupyter-widgets/controls",
     "model_module_version": "1.5.0",
     "model_name": "HTMLModel",
     "state": {
      "_dom_classes": [],
      "_model_module": "@jupyter-widgets/controls",
      "_model_module_version": "1.5.0",
      "_model_name": "HTMLModel",
      "_view_count": null,
      "_view_module": "@jupyter-widgets/controls",
      "_view_module_version": "1.5.0",
      "_view_name": "HTMLView",
      "description": "",
      "description_tooltip": null,
      "layout": "IPY_MODEL_1a8be386acf844c685936680b5d58f9f",
      "placeholder": "​",
      "style": "IPY_MODEL_7557007dcd8b4a5c9c9b9364b2d431ee",
      "value": " 1.63G/1.63G [00:10&lt;00:00, 196MB/s]"
     }
    },
    "6b7c482a77984b20b7f61791d824b43c": {
     "model_module": "@jupyter-widgets/controls",
     "model_module_version": "1.5.0",
     "model_name": "DescriptionStyleModel",
     "state": {
      "_model_module": "@jupyter-widgets/controls",
      "_model_module_version": "1.5.0",
      "_model_name": "DescriptionStyleModel",
      "_view_count": null,
      "_view_module": "@jupyter-widgets/base",
      "_view_module_version": "1.2.0",
      "_view_name": "StyleView",
      "description_width": ""
     }
    },
    "6ca0e71c597a4035bf02973e56c7db9d": {
     "model_module": "@jupyter-widgets/base",
     "model_module_version": "1.2.0",
     "model_name": "LayoutModel",
     "state": {
      "_model_module": "@jupyter-widgets/base",
      "_model_module_version": "1.2.0",
      "_model_name": "LayoutModel",
      "_view_count": null,
      "_view_module": "@jupyter-widgets/base",
      "_view_module_version": "1.2.0",
      "_view_name": "LayoutView",
      "align_content": null,
      "align_items": null,
      "align_self": null,
      "border": null,
      "bottom": null,
      "display": null,
      "flex": null,
      "flex_flow": null,
      "grid_area": null,
      "grid_auto_columns": null,
      "grid_auto_flow": null,
      "grid_auto_rows": null,
      "grid_column": null,
      "grid_gap": null,
      "grid_row": null,
      "grid_template_areas": null,
      "grid_template_columns": null,
      "grid_template_rows": null,
      "height": null,
      "justify_content": null,
      "justify_items": null,
      "left": null,
      "margin": null,
      "max_height": null,
      "max_width": null,
      "min_height": null,
      "min_width": null,
      "object_fit": null,
      "object_position": null,
      "order": null,
      "overflow": null,
      "overflow_x": null,
      "overflow_y": null,
      "padding": null,
      "right": null,
      "top": null,
      "visibility": null,
      "width": null
     }
    },
    "74d3305cc0a043e78449a5551c0585b1": {
     "model_module": "@jupyter-widgets/controls",
     "model_module_version": "1.5.0",
     "model_name": "HBoxModel",
     "state": {
      "_dom_classes": [],
      "_model_module": "@jupyter-widgets/controls",
      "_model_module_version": "1.5.0",
      "_model_name": "HBoxModel",
      "_view_count": null,
      "_view_module": "@jupyter-widgets/controls",
      "_view_module_version": "1.5.0",
      "_view_name": "HBoxView",
      "box_style": "",
      "children": [
       "IPY_MODEL_fb0620ed3d7e4db1b6a3b62711adf5d2",
       "IPY_MODEL_ec91767261d44d40bb73eebe80463404",
       "IPY_MODEL_7c2c9141ebe34064b86531d7ffea9527"
      ],
      "layout": "IPY_MODEL_95a8144ca1394bc284761e5ba4d5c966"
     }
    },
    "7557007dcd8b4a5c9c9b9364b2d431ee": {
     "model_module": "@jupyter-widgets/controls",
     "model_module_version": "1.5.0",
     "model_name": "DescriptionStyleModel",
     "state": {
      "_model_module": "@jupyter-widgets/controls",
      "_model_module_version": "1.5.0",
      "_model_name": "DescriptionStyleModel",
      "_view_count": null,
      "_view_module": "@jupyter-widgets/base",
      "_view_module_version": "1.2.0",
      "_view_name": "StyleView",
      "description_width": ""
     }
    },
    "755d5de1bfbd4233b3e23db053a4d96d": {
     "model_module": "@jupyter-widgets/base",
     "model_module_version": "1.2.0",
     "model_name": "LayoutModel",
     "state": {
      "_model_module": "@jupyter-widgets/base",
      "_model_module_version": "1.2.0",
      "_model_name": "LayoutModel",
      "_view_count": null,
      "_view_module": "@jupyter-widgets/base",
      "_view_module_version": "1.2.0",
      "_view_name": "LayoutView",
      "align_content": null,
      "align_items": null,
      "align_self": null,
      "border": null,
      "bottom": null,
      "display": null,
      "flex": null,
      "flex_flow": null,
      "grid_area": null,
      "grid_auto_columns": null,
      "grid_auto_flow": null,
      "grid_auto_rows": null,
      "grid_column": null,
      "grid_gap": null,
      "grid_row": null,
      "grid_template_areas": null,
      "grid_template_columns": null,
      "grid_template_rows": null,
      "height": null,
      "justify_content": null,
      "justify_items": null,
      "left": null,
      "margin": null,
      "max_height": null,
      "max_width": null,
      "min_height": null,
      "min_width": null,
      "object_fit": null,
      "object_position": null,
      "order": null,
      "overflow": null,
      "overflow_x": null,
      "overflow_y": null,
      "padding": null,
      "right": null,
      "top": null,
      "visibility": null,
      "width": null
     }
    },
    "76643f30d9e8409ea5c151b6b0c2c514": {
     "model_module": "@jupyter-widgets/base",
     "model_module_version": "1.2.0",
     "model_name": "LayoutModel",
     "state": {
      "_model_module": "@jupyter-widgets/base",
      "_model_module_version": "1.2.0",
      "_model_name": "LayoutModel",
      "_view_count": null,
      "_view_module": "@jupyter-widgets/base",
      "_view_module_version": "1.2.0",
      "_view_name": "LayoutView",
      "align_content": null,
      "align_items": null,
      "align_self": null,
      "border": null,
      "bottom": null,
      "display": null,
      "flex": null,
      "flex_flow": null,
      "grid_area": null,
      "grid_auto_columns": null,
      "grid_auto_flow": null,
      "grid_auto_rows": null,
      "grid_column": null,
      "grid_gap": null,
      "grid_row": null,
      "grid_template_areas": null,
      "grid_template_columns": null,
      "grid_template_rows": null,
      "height": null,
      "justify_content": null,
      "justify_items": null,
      "left": null,
      "margin": null,
      "max_height": null,
      "max_width": null,
      "min_height": null,
      "min_width": null,
      "object_fit": null,
      "object_position": null,
      "order": null,
      "overflow": null,
      "overflow_x": null,
      "overflow_y": null,
      "padding": null,
      "right": null,
      "top": null,
      "visibility": null,
      "width": null
     }
    },
    "770dc94d42b1493a96e7c59bcf9a6a79": {
     "model_module": "@jupyter-widgets/base",
     "model_module_version": "1.2.0",
     "model_name": "LayoutModel",
     "state": {
      "_model_module": "@jupyter-widgets/base",
      "_model_module_version": "1.2.0",
      "_model_name": "LayoutModel",
      "_view_count": null,
      "_view_module": "@jupyter-widgets/base",
      "_view_module_version": "1.2.0",
      "_view_name": "LayoutView",
      "align_content": null,
      "align_items": null,
      "align_self": null,
      "border": null,
      "bottom": null,
      "display": null,
      "flex": null,
      "flex_flow": null,
      "grid_area": null,
      "grid_auto_columns": null,
      "grid_auto_flow": null,
      "grid_auto_rows": null,
      "grid_column": null,
      "grid_gap": null,
      "grid_row": null,
      "grid_template_areas": null,
      "grid_template_columns": null,
      "grid_template_rows": null,
      "height": null,
      "justify_content": null,
      "justify_items": null,
      "left": null,
      "margin": null,
      "max_height": null,
      "max_width": null,
      "min_height": null,
      "min_width": null,
      "object_fit": null,
      "object_position": null,
      "order": null,
      "overflow": null,
      "overflow_x": null,
      "overflow_y": null,
      "padding": null,
      "right": null,
      "top": null,
      "visibility": null,
      "width": null
     }
    },
    "7ba008d733a24406bdd3a44008a59194": {
     "model_module": "@jupyter-widgets/base",
     "model_module_version": "1.2.0",
     "model_name": "LayoutModel",
     "state": {
      "_model_module": "@jupyter-widgets/base",
      "_model_module_version": "1.2.0",
      "_model_name": "LayoutModel",
      "_view_count": null,
      "_view_module": "@jupyter-widgets/base",
      "_view_module_version": "1.2.0",
      "_view_name": "LayoutView",
      "align_content": null,
      "align_items": null,
      "align_self": null,
      "border": null,
      "bottom": null,
      "display": null,
      "flex": null,
      "flex_flow": null,
      "grid_area": null,
      "grid_auto_columns": null,
      "grid_auto_flow": null,
      "grid_auto_rows": null,
      "grid_column": null,
      "grid_gap": null,
      "grid_row": null,
      "grid_template_areas": null,
      "grid_template_columns": null,
      "grid_template_rows": null,
      "height": null,
      "justify_content": null,
      "justify_items": null,
      "left": null,
      "margin": null,
      "max_height": null,
      "max_width": null,
      "min_height": null,
      "min_width": null,
      "object_fit": null,
      "object_position": null,
      "order": null,
      "overflow": null,
      "overflow_x": null,
      "overflow_y": null,
      "padding": null,
      "right": null,
      "top": null,
      "visibility": null,
      "width": null
     }
    },
    "7c2c9141ebe34064b86531d7ffea9527": {
     "model_module": "@jupyter-widgets/controls",
     "model_module_version": "1.5.0",
     "model_name": "HTMLModel",
     "state": {
      "_dom_classes": [],
      "_model_module": "@jupyter-widgets/controls",
      "_model_module_version": "1.5.0",
      "_model_name": "HTMLModel",
      "_view_count": null,
      "_view_module": "@jupyter-widgets/controls",
      "_view_module_version": "1.5.0",
      "_view_name": "HTMLView",
      "description": "",
      "description_tooltip": null,
      "layout": "IPY_MODEL_1c764e4367864525ab435bf24ed53a0f",
      "placeholder": "​",
      "style": "IPY_MODEL_fab21b56ea5445bcac5d0a00e0396cec",
      "value": " 1.36M/1.36M [00:00&lt;00:00, 42.8MB/s]"
     }
    },
    "7ed780bbadbf4e578699dd5bd4fd316e": {
     "model_module": "@jupyter-widgets/base",
     "model_module_version": "1.2.0",
     "model_name": "LayoutModel",
     "state": {
      "_model_module": "@jupyter-widgets/base",
      "_model_module_version": "1.2.0",
      "_model_name": "LayoutModel",
      "_view_count": null,
      "_view_module": "@jupyter-widgets/base",
      "_view_module_version": "1.2.0",
      "_view_name": "LayoutView",
      "align_content": null,
      "align_items": null,
      "align_self": null,
      "border": null,
      "bottom": null,
      "display": null,
      "flex": null,
      "flex_flow": null,
      "grid_area": null,
      "grid_auto_columns": null,
      "grid_auto_flow": null,
      "grid_auto_rows": null,
      "grid_column": null,
      "grid_gap": null,
      "grid_row": null,
      "grid_template_areas": null,
      "grid_template_columns": null,
      "grid_template_rows": null,
      "height": null,
      "justify_content": null,
      "justify_items": null,
      "left": null,
      "margin": null,
      "max_height": null,
      "max_width": null,
      "min_height": null,
      "min_width": null,
      "object_fit": null,
      "object_position": null,
      "order": null,
      "overflow": null,
      "overflow_x": null,
      "overflow_y": null,
      "padding": null,
      "right": null,
      "top": null,
      "visibility": null,
      "width": null
     }
    },
    "845069c0f6a14757a44ca816943ea4f1": {
     "model_module": "@jupyter-widgets/controls",
     "model_module_version": "1.5.0",
     "model_name": "DescriptionStyleModel",
     "state": {
      "_model_module": "@jupyter-widgets/controls",
      "_model_module_version": "1.5.0",
      "_model_name": "DescriptionStyleModel",
      "_view_count": null,
      "_view_module": "@jupyter-widgets/base",
      "_view_module_version": "1.2.0",
      "_view_name": "StyleView",
      "description_width": ""
     }
    },
    "86e8c7721b924a148fe6a92fcdd1a2ed": {
     "model_module": "@jupyter-widgets/controls",
     "model_module_version": "1.5.0",
     "model_name": "HTMLModel",
     "state": {
      "_dom_classes": [],
      "_model_module": "@jupyter-widgets/controls",
      "_model_module_version": "1.5.0",
      "_model_name": "HTMLModel",
      "_view_count": null,
      "_view_module": "@jupyter-widgets/controls",
      "_view_module_version": "1.5.0",
      "_view_name": "HTMLView",
      "description": "",
      "description_tooltip": null,
      "layout": "IPY_MODEL_c96e4ffe4557425bb25381d4ea42a6f5",
      "placeholder": "​",
      "style": "IPY_MODEL_f7541bc4bca14a0a8465c537d5d3fb09",
      "value": " 899k/899k [00:00&lt;00:00, 16.9MB/s]"
     }
    },
    "870b99b0e86b4508a2cb863fd04fb5f9": {
     "model_module": "@jupyter-widgets/controls",
     "model_module_version": "1.5.0",
     "model_name": "FloatProgressModel",
     "state": {
      "_dom_classes": [],
      "_model_module": "@jupyter-widgets/controls",
      "_model_module_version": "1.5.0",
      "_model_name": "FloatProgressModel",
      "_view_count": null,
      "_view_module": "@jupyter-widgets/controls",
      "_view_module_version": "1.5.0",
      "_view_name": "ProgressView",
      "bar_style": "success",
      "description": "",
      "description_tooltip": null,
      "layout": "IPY_MODEL_196085b54090411eb2edfb8bd48e0895",
      "max": 1154,
      "min": 0,
      "orientation": "horizontal",
      "style": "IPY_MODEL_221b56dc97dc490ab2d93f68b87d771e",
      "value": 1154
     }
    },
    "932d865e08174824b92bf395ee44a4ce": {
     "model_module": "@jupyter-widgets/controls",
     "model_module_version": "1.5.0",
     "model_name": "HBoxModel",
     "state": {
      "_dom_classes": [],
      "_model_module": "@jupyter-widgets/controls",
      "_model_module_version": "1.5.0",
      "_model_name": "HBoxModel",
      "_view_count": null,
      "_view_module": "@jupyter-widgets/controls",
      "_view_module_version": "1.5.0",
      "_view_name": "HBoxView",
      "box_style": "",
      "children": [
       "IPY_MODEL_26ff47ffb6cd4347b0615deca399588f",
       "IPY_MODEL_870b99b0e86b4508a2cb863fd04fb5f9",
       "IPY_MODEL_0b9f9b58d3c64b90b0a57ef05094fca8"
      ],
      "layout": "IPY_MODEL_fdb1805b268547a2b8932bed0249a03a"
     }
    },
    "95a8144ca1394bc284761e5ba4d5c966": {
     "model_module": "@jupyter-widgets/base",
     "model_module_version": "1.2.0",
     "model_name": "LayoutModel",
     "state": {
      "_model_module": "@jupyter-widgets/base",
      "_model_module_version": "1.2.0",
      "_model_name": "LayoutModel",
      "_view_count": null,
      "_view_module": "@jupyter-widgets/base",
      "_view_module_version": "1.2.0",
      "_view_name": "LayoutView",
      "align_content": null,
      "align_items": null,
      "align_self": null,
      "border": null,
      "bottom": null,
      "display": null,
      "flex": null,
      "flex_flow": null,
      "grid_area": null,
      "grid_auto_columns": null,
      "grid_auto_flow": null,
      "grid_auto_rows": null,
      "grid_column": null,
      "grid_gap": null,
      "grid_row": null,
      "grid_template_areas": null,
      "grid_template_columns": null,
      "grid_template_rows": null,
      "height": null,
      "justify_content": null,
      "justify_items": null,
      "left": null,
      "margin": null,
      "max_height": null,
      "max_width": null,
      "min_height": null,
      "min_width": null,
      "object_fit": null,
      "object_position": null,
      "order": null,
      "overflow": null,
      "overflow_x": null,
      "overflow_y": null,
      "padding": null,
      "right": null,
      "top": null,
      "visibility": null,
      "width": null
     }
    },
    "a1970e06fcf9458e868ad73b0162f1df": {
     "model_module": "@jupyter-widgets/controls",
     "model_module_version": "1.5.0",
     "model_name": "HTMLModel",
     "state": {
      "_dom_classes": [],
      "_model_module": "@jupyter-widgets/controls",
      "_model_module_version": "1.5.0",
      "_model_name": "HTMLModel",
      "_view_count": null,
      "_view_module": "@jupyter-widgets/controls",
      "_view_module_version": "1.5.0",
      "_view_name": "HTMLView",
      "description": "",
      "description_tooltip": null,
      "layout": "IPY_MODEL_2dd1be94b95143f98ce1d26b4482ff53",
      "placeholder": "​",
      "style": "IPY_MODEL_3cd7907e7ab349ec8ce6d5ca0f1298aa",
      "value": "merges.txt: 100%"
     }
    },
    "b720ca868a4142809496b6453ef19bdb": {
     "model_module": "@jupyter-widgets/base",
     "model_module_version": "1.2.0",
     "model_name": "LayoutModel",
     "state": {
      "_model_module": "@jupyter-widgets/base",
      "_model_module_version": "1.2.0",
      "_model_name": "LayoutModel",
      "_view_count": null,
      "_view_module": "@jupyter-widgets/base",
      "_view_module_version": "1.2.0",
      "_view_name": "LayoutView",
      "align_content": null,
      "align_items": null,
      "align_self": null,
      "border": null,
      "bottom": null,
      "display": null,
      "flex": null,
      "flex_flow": null,
      "grid_area": null,
      "grid_auto_columns": null,
      "grid_auto_flow": null,
      "grid_auto_rows": null,
      "grid_column": null,
      "grid_gap": null,
      "grid_row": null,
      "grid_template_areas": null,
      "grid_template_columns": null,
      "grid_template_rows": null,
      "height": null,
      "justify_content": null,
      "justify_items": null,
      "left": null,
      "margin": null,
      "max_height": null,
      "max_width": null,
      "min_height": null,
      "min_width": null,
      "object_fit": null,
      "object_position": null,
      "order": null,
      "overflow": null,
      "overflow_x": null,
      "overflow_y": null,
      "padding": null,
      "right": null,
      "top": null,
      "visibility": null,
      "width": null
     }
    },
    "bc6b171d7924416ca539a4af0e2322a6": {
     "model_module": "@jupyter-widgets/base",
     "model_module_version": "1.2.0",
     "model_name": "LayoutModel",
     "state": {
      "_model_module": "@jupyter-widgets/base",
      "_model_module_version": "1.2.0",
      "_model_name": "LayoutModel",
      "_view_count": null,
      "_view_module": "@jupyter-widgets/base",
      "_view_module_version": "1.2.0",
      "_view_name": "LayoutView",
      "align_content": null,
      "align_items": null,
      "align_self": null,
      "border": null,
      "bottom": null,
      "display": null,
      "flex": null,
      "flex_flow": null,
      "grid_area": null,
      "grid_auto_columns": null,
      "grid_auto_flow": null,
      "grid_auto_rows": null,
      "grid_column": null,
      "grid_gap": null,
      "grid_row": null,
      "grid_template_areas": null,
      "grid_template_columns": null,
      "grid_template_rows": null,
      "height": null,
      "justify_content": null,
      "justify_items": null,
      "left": null,
      "margin": null,
      "max_height": null,
      "max_width": null,
      "min_height": null,
      "min_width": null,
      "object_fit": null,
      "object_position": null,
      "order": null,
      "overflow": null,
      "overflow_x": null,
      "overflow_y": null,
      "padding": null,
      "right": null,
      "top": null,
      "visibility": null,
      "width": null
     }
    },
    "bea47971256045edab234afb251a6beb": {
     "model_module": "@jupyter-widgets/controls",
     "model_module_version": "1.5.0",
     "model_name": "DescriptionStyleModel",
     "state": {
      "_model_module": "@jupyter-widgets/controls",
      "_model_module_version": "1.5.0",
      "_model_name": "DescriptionStyleModel",
      "_view_count": null,
      "_view_module": "@jupyter-widgets/base",
      "_view_module_version": "1.2.0",
      "_view_name": "StyleView",
      "description_width": ""
     }
    },
    "bfb3b1ace98446ce996e9b8ecc08128a": {
     "model_module": "@jupyter-widgets/controls",
     "model_module_version": "1.5.0",
     "model_name": "DescriptionStyleModel",
     "state": {
      "_model_module": "@jupyter-widgets/controls",
      "_model_module_version": "1.5.0",
      "_model_name": "DescriptionStyleModel",
      "_view_count": null,
      "_view_module": "@jupyter-widgets/base",
      "_view_module_version": "1.2.0",
      "_view_name": "StyleView",
      "description_width": ""
     }
    },
    "c08bec3ffd394036998b0e3487f6e7b7": {
     "model_module": "@jupyter-widgets/controls",
     "model_module_version": "1.5.0",
     "model_name": "HTMLModel",
     "state": {
      "_dom_classes": [],
      "_model_module": "@jupyter-widgets/controls",
      "_model_module_version": "1.5.0",
      "_model_name": "HTMLModel",
      "_view_count": null,
      "_view_module": "@jupyter-widgets/controls",
      "_view_module_version": "1.5.0",
      "_view_name": "HTMLView",
      "description": "",
      "description_tooltip": null,
      "layout": "IPY_MODEL_ebfe399b00274e6db6cd0a045410c30b",
      "placeholder": "​",
      "style": "IPY_MODEL_37bbb33b0c8a4ed1a7a34949d5c1e2e0",
      "value": "tokenizer_config.json: 100%"
     }
    },
    "c327df7a6f29490f80331307c0a94f9f": {
     "model_module": "@jupyter-widgets/controls",
     "model_module_version": "1.5.0",
     "model_name": "DescriptionStyleModel",
     "state": {
      "_model_module": "@jupyter-widgets/controls",
      "_model_module_version": "1.5.0",
      "_model_name": "DescriptionStyleModel",
      "_view_count": null,
      "_view_module": "@jupyter-widgets/base",
      "_view_module_version": "1.2.0",
      "_view_name": "StyleView",
      "description_width": ""
     }
    },
    "c54494b3bfd843db887b0e43462686df": {
     "model_module": "@jupyter-widgets/controls",
     "model_module_version": "1.5.0",
     "model_name": "DescriptionStyleModel",
     "state": {
      "_model_module": "@jupyter-widgets/controls",
      "_model_module_version": "1.5.0",
      "_model_name": "DescriptionStyleModel",
      "_view_count": null,
      "_view_module": "@jupyter-widgets/base",
      "_view_module_version": "1.2.0",
      "_view_name": "StyleView",
      "description_width": ""
     }
    },
    "c96e4ffe4557425bb25381d4ea42a6f5": {
     "model_module": "@jupyter-widgets/base",
     "model_module_version": "1.2.0",
     "model_name": "LayoutModel",
     "state": {
      "_model_module": "@jupyter-widgets/base",
      "_model_module_version": "1.2.0",
      "_model_name": "LayoutModel",
      "_view_count": null,
      "_view_module": "@jupyter-widgets/base",
      "_view_module_version": "1.2.0",
      "_view_name": "LayoutView",
      "align_content": null,
      "align_items": null,
      "align_self": null,
      "border": null,
      "bottom": null,
      "display": null,
      "flex": null,
      "flex_flow": null,
      "grid_area": null,
      "grid_auto_columns": null,
      "grid_auto_flow": null,
      "grid_auto_rows": null,
      "grid_column": null,
      "grid_gap": null,
      "grid_row": null,
      "grid_template_areas": null,
      "grid_template_columns": null,
      "grid_template_rows": null,
      "height": null,
      "justify_content": null,
      "justify_items": null,
      "left": null,
      "margin": null,
      "max_height": null,
      "max_width": null,
      "min_height": null,
      "min_width": null,
      "object_fit": null,
      "object_position": null,
      "order": null,
      "overflow": null,
      "overflow_x": null,
      "overflow_y": null,
      "padding": null,
      "right": null,
      "top": null,
      "visibility": null,
      "width": null
     }
    },
    "c973659fd04e4457bea1528b961d9e71": {
     "model_module": "@jupyter-widgets/controls",
     "model_module_version": "1.5.0",
     "model_name": "FloatProgressModel",
     "state": {
      "_dom_classes": [],
      "_model_module": "@jupyter-widgets/controls",
      "_model_module_version": "1.5.0",
      "_model_name": "FloatProgressModel",
      "_view_count": null,
      "_view_module": "@jupyter-widgets/controls",
      "_view_module_version": "1.5.0",
      "_view_name": "ProgressView",
      "bar_style": "success",
      "description": "",
      "description_tooltip": null,
      "layout": "IPY_MODEL_279b82fb91b54277b9ddb0cf25947f89",
      "max": 1629437147,
      "min": 0,
      "orientation": "horizontal",
      "style": "IPY_MODEL_de1cc44988b642ab948e6014af5f5259",
      "value": 1629437147
     }
    },
    "d2c5b6e510044db1887ba60a8dabe012": {
     "model_module": "@jupyter-widgets/controls",
     "model_module_version": "1.5.0",
     "model_name": "ProgressStyleModel",
     "state": {
      "_model_module": "@jupyter-widgets/controls",
      "_model_module_version": "1.5.0",
      "_model_name": "ProgressStyleModel",
      "_view_count": null,
      "_view_module": "@jupyter-widgets/base",
      "_view_module_version": "1.2.0",
      "_view_name": "StyleView",
      "bar_color": null,
      "description_width": ""
     }
    },
    "d6cd161360504ae8ba5e02389b765738": {
     "model_module": "@jupyter-widgets/controls",
     "model_module_version": "1.5.0",
     "model_name": "FloatProgressModel",
     "state": {
      "_dom_classes": [],
      "_model_module": "@jupyter-widgets/controls",
      "_model_module_version": "1.5.0",
      "_model_name": "FloatProgressModel",
      "_view_count": null,
      "_view_module": "@jupyter-widgets/controls",
      "_view_module_version": "1.5.0",
      "_view_name": "ProgressView",
      "bar_style": "success",
      "description": "",
      "description_tooltip": null,
      "layout": "IPY_MODEL_7ed780bbadbf4e578699dd5bd4fd316e",
      "max": 456318,
      "min": 0,
      "orientation": "horizontal",
      "style": "IPY_MODEL_fff203a787bc48ea9618ffefcf337dc3",
      "value": 456318
     }
    },
    "de1cc44988b642ab948e6014af5f5259": {
     "model_module": "@jupyter-widgets/controls",
     "model_module_version": "1.5.0",
     "model_name": "ProgressStyleModel",
     "state": {
      "_model_module": "@jupyter-widgets/controls",
      "_model_module_version": "1.5.0",
      "_model_name": "ProgressStyleModel",
      "_view_count": null,
      "_view_module": "@jupyter-widgets/base",
      "_view_module_version": "1.2.0",
      "_view_name": "StyleView",
      "bar_color": null,
      "description_width": ""
     }
    },
    "e3a6719838dd4751a65c7772145c26c9": {
     "model_module": "@jupyter-widgets/base",
     "model_module_version": "1.2.0",
     "model_name": "LayoutModel",
     "state": {
      "_model_module": "@jupyter-widgets/base",
      "_model_module_version": "1.2.0",
      "_model_name": "LayoutModel",
      "_view_count": null,
      "_view_module": "@jupyter-widgets/base",
      "_view_module_version": "1.2.0",
      "_view_name": "LayoutView",
      "align_content": null,
      "align_items": null,
      "align_self": null,
      "border": null,
      "bottom": null,
      "display": null,
      "flex": null,
      "flex_flow": null,
      "grid_area": null,
      "grid_auto_columns": null,
      "grid_auto_flow": null,
      "grid_auto_rows": null,
      "grid_column": null,
      "grid_gap": null,
      "grid_row": null,
      "grid_template_areas": null,
      "grid_template_columns": null,
      "grid_template_rows": null,
      "height": null,
      "justify_content": null,
      "justify_items": null,
      "left": null,
      "margin": null,
      "max_height": null,
      "max_width": null,
      "min_height": null,
      "min_width": null,
      "object_fit": null,
      "object_position": null,
      "order": null,
      "overflow": null,
      "overflow_x": null,
      "overflow_y": null,
      "padding": null,
      "right": null,
      "top": null,
      "visibility": null,
      "width": null
     }
    },
    "ea56501bf1be46578736611b1e7b9576": {
     "model_module": "@jupyter-widgets/base",
     "model_module_version": "1.2.0",
     "model_name": "LayoutModel",
     "state": {
      "_model_module": "@jupyter-widgets/base",
      "_model_module_version": "1.2.0",
      "_model_name": "LayoutModel",
      "_view_count": null,
      "_view_module": "@jupyter-widgets/base",
      "_view_module_version": "1.2.0",
      "_view_name": "LayoutView",
      "align_content": null,
      "align_items": null,
      "align_self": null,
      "border": null,
      "bottom": null,
      "display": null,
      "flex": null,
      "flex_flow": null,
      "grid_area": null,
      "grid_auto_columns": null,
      "grid_auto_flow": null,
      "grid_auto_rows": null,
      "grid_column": null,
      "grid_gap": null,
      "grid_row": null,
      "grid_template_areas": null,
      "grid_template_columns": null,
      "grid_template_rows": null,
      "height": null,
      "justify_content": null,
      "justify_items": null,
      "left": null,
      "margin": null,
      "max_height": null,
      "max_width": null,
      "min_height": null,
      "min_width": null,
      "object_fit": null,
      "object_position": null,
      "order": null,
      "overflow": null,
      "overflow_x": null,
      "overflow_y": null,
      "padding": null,
      "right": null,
      "top": null,
      "visibility": null,
      "width": null
     }
    },
    "ebfe399b00274e6db6cd0a045410c30b": {
     "model_module": "@jupyter-widgets/base",
     "model_module_version": "1.2.0",
     "model_name": "LayoutModel",
     "state": {
      "_model_module": "@jupyter-widgets/base",
      "_model_module_version": "1.2.0",
      "_model_name": "LayoutModel",
      "_view_count": null,
      "_view_module": "@jupyter-widgets/base",
      "_view_module_version": "1.2.0",
      "_view_name": "LayoutView",
      "align_content": null,
      "align_items": null,
      "align_self": null,
      "border": null,
      "bottom": null,
      "display": null,
      "flex": null,
      "flex_flow": null,
      "grid_area": null,
      "grid_auto_columns": null,
      "grid_auto_flow": null,
      "grid_auto_rows": null,
      "grid_column": null,
      "grid_gap": null,
      "grid_row": null,
      "grid_template_areas": null,
      "grid_template_columns": null,
      "grid_template_rows": null,
      "height": null,
      "justify_content": null,
      "justify_items": null,
      "left": null,
      "margin": null,
      "max_height": null,
      "max_width": null,
      "min_height": null,
      "min_width": null,
      "object_fit": null,
      "object_position": null,
      "order": null,
      "overflow": null,
      "overflow_x": null,
      "overflow_y": null,
      "padding": null,
      "right": null,
      "top": null,
      "visibility": null,
      "width": null
     }
    },
    "ec91767261d44d40bb73eebe80463404": {
     "model_module": "@jupyter-widgets/controls",
     "model_module_version": "1.5.0",
     "model_name": "FloatProgressModel",
     "state": {
      "_dom_classes": [],
      "_model_module": "@jupyter-widgets/controls",
      "_model_module_version": "1.5.0",
      "_model_name": "FloatProgressModel",
      "_view_count": null,
      "_view_module": "@jupyter-widgets/controls",
      "_view_module_version": "1.5.0",
      "_view_name": "ProgressView",
      "bar_style": "success",
      "description": "",
      "description_tooltip": null,
      "layout": "IPY_MODEL_0543305a1bb74e8cb50de03c06c6f792",
      "max": 1355863,
      "min": 0,
      "orientation": "horizontal",
      "style": "IPY_MODEL_d2c5b6e510044db1887ba60a8dabe012",
      "value": 1355863
     }
    },
    "ee88b764ae3a4d139b5d6d8c203dbc3f": {
     "model_module": "@jupyter-widgets/controls",
     "model_module_version": "1.5.0",
     "model_name": "HTMLModel",
     "state": {
      "_dom_classes": [],
      "_model_module": "@jupyter-widgets/controls",
      "_model_module_version": "1.5.0",
      "_model_name": "HTMLModel",
      "_view_count": null,
      "_view_module": "@jupyter-widgets/controls",
      "_view_module_version": "1.5.0",
      "_view_name": "HTMLView",
      "description": "",
      "description_tooltip": null,
      "layout": "IPY_MODEL_304cde1d4ac143cbbd5e037cdc5c512b",
      "placeholder": "​",
      "style": "IPY_MODEL_845069c0f6a14757a44ca816943ea4f1",
      "value": " 26.0/26.0 [00:00&lt;00:00, 1.32kB/s]"
     }
    },
    "f049628067d14b96b5cc891c36b102d2": {
     "model_module": "@jupyter-widgets/controls",
     "model_module_version": "1.5.0",
     "model_name": "FloatProgressModel",
     "state": {
      "_dom_classes": [],
      "_model_module": "@jupyter-widgets/controls",
      "_model_module_version": "1.5.0",
      "_model_name": "FloatProgressModel",
      "_view_count": null,
      "_view_module": "@jupyter-widgets/controls",
      "_view_module_version": "1.5.0",
      "_view_name": "ProgressView",
      "bar_style": "success",
      "description": "",
      "description_tooltip": null,
      "layout": "IPY_MODEL_76643f30d9e8409ea5c151b6b0c2c514",
      "max": 898822,
      "min": 0,
      "orientation": "horizontal",
      "style": "IPY_MODEL_f86f14cb29d74b53a3d5802f9d6cd325",
      "value": 898822
     }
    },
    "f7541bc4bca14a0a8465c537d5d3fb09": {
     "model_module": "@jupyter-widgets/controls",
     "model_module_version": "1.5.0",
     "model_name": "DescriptionStyleModel",
     "state": {
      "_model_module": "@jupyter-widgets/controls",
      "_model_module_version": "1.5.0",
      "_model_name": "DescriptionStyleModel",
      "_view_count": null,
      "_view_module": "@jupyter-widgets/base",
      "_view_module_version": "1.2.0",
      "_view_name": "StyleView",
      "description_width": ""
     }
    },
    "f86f14cb29d74b53a3d5802f9d6cd325": {
     "model_module": "@jupyter-widgets/controls",
     "model_module_version": "1.5.0",
     "model_name": "ProgressStyleModel",
     "state": {
      "_model_module": "@jupyter-widgets/controls",
      "_model_module_version": "1.5.0",
      "_model_name": "ProgressStyleModel",
      "_view_count": null,
      "_view_module": "@jupyter-widgets/base",
      "_view_module_version": "1.2.0",
      "_view_name": "StyleView",
      "bar_color": null,
      "description_width": ""
     }
    },
    "fab21b56ea5445bcac5d0a00e0396cec": {
     "model_module": "@jupyter-widgets/controls",
     "model_module_version": "1.5.0",
     "model_name": "DescriptionStyleModel",
     "state": {
      "_model_module": "@jupyter-widgets/controls",
      "_model_module_version": "1.5.0",
      "_model_name": "DescriptionStyleModel",
      "_view_count": null,
      "_view_module": "@jupyter-widgets/base",
      "_view_module_version": "1.2.0",
      "_view_name": "StyleView",
      "description_width": ""
     }
    },
    "fb0620ed3d7e4db1b6a3b62711adf5d2": {
     "model_module": "@jupyter-widgets/controls",
     "model_module_version": "1.5.0",
     "model_name": "HTMLModel",
     "state": {
      "_dom_classes": [],
      "_model_module": "@jupyter-widgets/controls",
      "_model_module_version": "1.5.0",
      "_model_name": "HTMLModel",
      "_view_count": null,
      "_view_module": "@jupyter-widgets/controls",
      "_view_module_version": "1.5.0",
      "_view_name": "HTMLView",
      "description": "",
      "description_tooltip": null,
      "layout": "IPY_MODEL_770dc94d42b1493a96e7c59bcf9a6a79",
      "placeholder": "​",
      "style": "IPY_MODEL_c54494b3bfd843db887b0e43462686df",
      "value": "tokenizer.json: 100%"
     }
    },
    "fdb1805b268547a2b8932bed0249a03a": {
     "model_module": "@jupyter-widgets/base",
     "model_module_version": "1.2.0",
     "model_name": "LayoutModel",
     "state": {
      "_model_module": "@jupyter-widgets/base",
      "_model_module_version": "1.2.0",
      "_model_name": "LayoutModel",
      "_view_count": null,
      "_view_module": "@jupyter-widgets/base",
      "_view_module_version": "1.2.0",
      "_view_name": "LayoutView",
      "align_content": null,
      "align_items": null,
      "align_self": null,
      "border": null,
      "bottom": null,
      "display": null,
      "flex": null,
      "flex_flow": null,
      "grid_area": null,
      "grid_auto_columns": null,
      "grid_auto_flow": null,
      "grid_auto_rows": null,
      "grid_column": null,
      "grid_gap": null,
      "grid_row": null,
      "grid_template_areas": null,
      "grid_template_columns": null,
      "grid_template_rows": null,
      "height": null,
      "justify_content": null,
      "justify_items": null,
      "left": null,
      "margin": null,
      "max_height": null,
      "max_width": null,
      "min_height": null,
      "min_width": null,
      "object_fit": null,
      "object_position": null,
      "order": null,
      "overflow": null,
      "overflow_x": null,
      "overflow_y": null,
      "padding": null,
      "right": null,
      "top": null,
      "visibility": null,
      "width": null
     }
    },
    "ff305c3e582d44699ca8b85946b4582d": {
     "model_module": "@jupyter-widgets/base",
     "model_module_version": "1.2.0",
     "model_name": "LayoutModel",
     "state": {
      "_model_module": "@jupyter-widgets/base",
      "_model_module_version": "1.2.0",
      "_model_name": "LayoutModel",
      "_view_count": null,
      "_view_module": "@jupyter-widgets/base",
      "_view_module_version": "1.2.0",
      "_view_name": "LayoutView",
      "align_content": null,
      "align_items": null,
      "align_self": null,
      "border": null,
      "bottom": null,
      "display": null,
      "flex": null,
      "flex_flow": null,
      "grid_area": null,
      "grid_auto_columns": null,
      "grid_auto_flow": null,
      "grid_auto_rows": null,
      "grid_column": null,
      "grid_gap": null,
      "grid_row": null,
      "grid_template_areas": null,
      "grid_template_columns": null,
      "grid_template_rows": null,
      "height": null,
      "justify_content": null,
      "justify_items": null,
      "left": null,
      "margin": null,
      "max_height": null,
      "max_width": null,
      "min_height": null,
      "min_width": null,
      "object_fit": null,
      "object_position": null,
      "order": null,
      "overflow": null,
      "overflow_x": null,
      "overflow_y": null,
      "padding": null,
      "right": null,
      "top": null,
      "visibility": null,
      "width": null
     }
    },
    "fff203a787bc48ea9618ffefcf337dc3": {
     "model_module": "@jupyter-widgets/controls",
     "model_module_version": "1.5.0",
     "model_name": "ProgressStyleModel",
     "state": {
      "_model_module": "@jupyter-widgets/controls",
      "_model_module_version": "1.5.0",
      "_model_name": "ProgressStyleModel",
      "_view_count": null,
      "_view_module": "@jupyter-widgets/base",
      "_view_module_version": "1.2.0",
      "_view_name": "StyleView",
      "bar_color": null,
      "description_width": ""
     }
    }
   }
  }
 },
 "nbformat": 4,
 "nbformat_minor": 5
}
